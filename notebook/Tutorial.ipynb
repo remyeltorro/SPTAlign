{
 "cells": [
  {
   "cell_type": "markdown",
   "id": "79109285",
   "metadata": {},
   "source": [
    "# SPTAlign: subpixel registration using single-particle-tracking data\n",
    "\n",
    "\n",
    "## Objective\n",
    "\n",
    "The objective is to correct for subpixel drifts in a traction force microscopy image timeseries (fluorescent beads, a tiny fraction of which are moved by cells). Without the correction, the use of optical flow methods such as PIV is too noisy.\n",
    "\n",
    "\n",
    "## Prerequisite\n",
    "\n",
    "* an image stack saved frame by frame with the frame number in each filename (see the folder data for a provided demo stack)\n",
    "* Fiji with a working TrackMate (in any case we provide a tracking table for the demo stack)\n",
    "* the requirements of `spt_align` to be available in the Python environment"
   ]
  },
  {
   "cell_type": "markdown",
   "id": "f1b0f1a1",
   "metadata": {},
   "source": [
    "# 1) Track the spots with TrackMate\n",
    "\n",
    "Open your stack in Fiji. Calibrate spatially the stack (`Ctrl+Shift+P`, then set `Pixel width` and `Pixel height`). For the demo, set these values to 1 µm. \n",
    "\n",
    "Go to `Plugins > Tracking > TrackMate`. Follow the steps to track your fluorescent beads.\n",
    "\n",
    "Select the LoG detector, put the `Quality threshold` to zero and set the `Estimated object diameter` first. On the demo movie, set `Estimated object diameter` to 4 µm and then increae the `Quality threshold` to 13. Disable the `Pre-process with median filter` option and activate the `Sub-pixel localization`.\n",
    "\n",
    "Keep pressing next until the selection of the tracker. Select the `Simple LAP tracker`. Set the `Linking max distance` to the spot diameter. The demo contains blurred frames and a black frame. To jump over these, it is necessary to increase the `Gap-closing max frame gap` above 1 (set 5-8) and the `Gap-closing max distance` to the spot diameter size.\n",
    "\n",
    "Click on next to visualize the result, color by track duration. Go back one step and tweak the `Simple LAP tracker` parameters if too many tracks are truncated. For the sake of the demo we purposefully performed a noisy tracking that can be found in the data folder."
   ]
  },
  {
   "cell_type": "markdown",
   "id": "9f774aec",
   "metadata": {},
   "source": [
    "# 2) Load the frames and tracks"
   ]
  },
  {
   "cell_type": "code",
   "execution_count": 1,
   "id": "b7759790",
   "metadata": {},
   "outputs": [
    {
     "name": "stdout",
     "output_type": "stream",
     "text": [
      "Number of frames: 199\n",
      "Maximum timepoint: 198\n"
     ]
    }
   ],
   "source": [
    "from spt_align.io import load_tracks, locate_frames, estimate_timeline\n",
    "import os\n",
    "\n",
    "df = load_tracks(os.sep.join(['..','data','tracks_corrupted.csv']))\n",
    "frames = locate_frames(os.sep.join(['..','data','images']))\n",
    "timeline = estimate_timeline(frames, df)\n",
    "print(f'Number of frames: {len(frames)}')\n",
    "print(f'Maximum timepoint: {timeline[-1]}')\n",
    "# CAREFUL TO SET THE SAME CALIBRATION AS IN THE TRACKING STEP\n",
    "PxToUm = 1"
   ]
  },
  {
   "cell_type": "markdown",
   "id": "0b233bed",
   "metadata": {},
   "source": [
    "# 3) Estimate a first displacement profile with $t_{\\textrm{ref}} = 0$\n",
    "\n",
    "To estimate the displacement from $t_{\\textrm{ref}} = 0$ to $T$, we can look at the track intersection between these two timepoints. If enough tracks are shared (meaning that there exists a position at both timepoints), we can fit a normal distribution to the distribution of -x and -y displacements. "
   ]
  },
  {
   "cell_type": "code",
   "execution_count": 2,
   "id": "a028de76",
   "metadata": {},
   "outputs": [
    {
     "data": {
      "image/png": "[encoded data removed]",
      "text/plain": [
       "<Figure size 400x300 with 1 Axes>"
      ]
     },
     "metadata": {},
     "output_type": "display_data"
    }
   ],
   "source": [
    "from spt_align import estimate_displacement, plot_displacement\n",
    "\n",
    "displacement_0 = estimate_displacement(df, timeline, reference_time=0, nbr_tracks_threshold=30)\n",
    "plot_displacement(timeline, displacement_0)"
   ]
  },
  {
   "cell_type": "markdown",
   "id": "85950bf1",
   "metadata": {},
   "source": [
    "As you can see the estimated displacement stops early in the movie, around frame 30, meaning that no track from the first frame ($t_{\\textrm{ref}} = 0$) survives past this point due to a poor tracking parameter choice. "
   ]
  },
  {
   "cell_type": "markdown",
   "id": "f2c4fb83",
   "metadata": {},
   "source": [
    "# 4) Move the reference time\n",
    "\n",
    "Let's see how we can change the reference time to have displacement information at other timepoints. We can assume that the number of tracks at time $T - n$ existing at $T$ decays with $n$, on average. Therefore, a reasonable reference time could be $T-1$. If not enough tracks are found in common, we can try $T-2$ and so on, until reaching $0$. This approach is computationally long though since for each $T$, we will compute the displacement with $T-1$. The fact that more tracks are available at $T-1$ than any other time may not be good news either as the risk of false positive (noisy) tracks is also much higher.\n",
    "\n",
    "If we reach zero, it means that changing the reference time does not fix our problem. The last thing we can do is extrapolate these missing displacements."
   ]
  },
  {
   "cell_type": "code",
   "execution_count": 3,
   "id": "66cb899a",
   "metadata": {
    "scrolled": true
   },
   "outputs": [
    {
     "name": "stderr",
     "output_type": "stream",
     "text": [
      "\r",
      "  0%|                                                   | 0/199 [00:00<?, ?it/s]"
     ]
    },
    {
     "name": "stdout",
     "output_type": "stream",
     "text": [
      "Time 30: No displacement with reference t=0 found... Attempt to change the reference...\n"
     ]
    },
    {
     "name": "stderr",
     "output_type": "stream",
     "text": [
      "\r",
      " 16%|██████▌                                   | 31/199 [00:03<00:18,  8.96it/s]"
     ]
    },
    {
     "name": "stdout",
     "output_type": "stream",
     "text": [
      "Time 30: Failed to find a valid reference time...\n",
      "Time 31: No displacement with reference t=0 found... Attempt to change the reference...\n",
      "Time 31: Failed to find a valid reference time...\n",
      "Time 32: No displacement with reference t=0 found... Attempt to change the reference...\n"
     ]
    },
    {
     "name": "stderr",
     "output_type": "stream",
     "text": [
      "\r",
      " 17%|██████▉                                   | 33/199 [00:03<00:18,  8.98it/s]"
     ]
    },
    {
     "name": "stdout",
     "output_type": "stream",
     "text": [
      "Time 32: Failed to find a valid reference time...\n",
      "Time 33: No displacement with reference t=0 found... Attempt to change the reference...\n"
     ]
    },
    {
     "name": "stderr",
     "output_type": "stream",
     "text": [
      "\r",
      " 17%|███████▏                                  | 34/199 [00:03<00:19,  8.52it/s]"
     ]
    },
    {
     "name": "stdout",
     "output_type": "stream",
     "text": [
      "Time 33: Failed to find a valid reference time...\n",
      "Time 34: No displacement with reference t=0 found... Attempt to change the reference...\n"
     ]
    },
    {
     "name": "stderr",
     "output_type": "stream",
     "text": [
      "\r",
      " 18%|███████▍                                  | 35/199 [00:04<00:24,  6.71it/s]"
     ]
    },
    {
     "name": "stdout",
     "output_type": "stream",
     "text": [
      "Time 34: New reference time set to t=33...\n",
      "Time 34: Displacement(t=33) not valid... Extrapolating this value...\n",
      "Time 34: Displacement_x(t=33) = 1.8681062321498831\n",
      "Total displacement_x = 1.8413651952626844\n",
      "Time 35: No displacement with reference t=0 found... Attempt to change the reference...\n"
     ]
    },
    {
     "name": "stderr",
     "output_type": "stream",
     "text": [
      "\r",
      " 18%|███████▌                                  | 36/199 [00:05<00:30,  5.27it/s]"
     ]
    },
    {
     "name": "stdout",
     "output_type": "stream",
     "text": [
      "Time 35: New reference time set to t=34...\n",
      "Time 35: Displacement_x(t=34) = 1.8413651952626844\n",
      "Total displacement_x = 1.839051839739074\n",
      "Time 36: No displacement with reference t=0 found... Attempt to change the reference...\n"
     ]
    },
    {
     "name": "stderr",
     "output_type": "stream",
     "text": [
      "\r",
      " 19%|███████▊                                  | 37/199 [00:05<00:38,  4.26it/s]"
     ]
    },
    {
     "name": "stdout",
     "output_type": "stream",
     "text": [
      "Time 36: New reference time set to t=35...\n",
      "Time 36: Displacement_x(t=35) = 1.839051839739074\n",
      "Total displacement_x = 1.7980542299900353\n",
      "Time 37: No displacement with reference t=0 found... Attempt to change the reference...\n"
     ]
    },
    {
     "name": "stderr",
     "output_type": "stream",
     "text": [
      "\r",
      " 19%|████████                                  | 38/199 [00:06<00:45,  3.56it/s]"
     ]
    },
    {
     "name": "stdout",
     "output_type": "stream",
     "text": [
      "Time 37: New reference time set to t=36...\n",
      "Time 37: Displacement_x(t=36) = 1.7980542299900353\n",
      "Total displacement_x = 1.8366949778130885\n",
      "Time 38: No displacement with reference t=0 found... Attempt to change the reference...\n"
     ]
    },
    {
     "name": "stderr",
     "output_type": "stream",
     "text": [
      "\r",
      " 20%|████████▏                                 | 39/199 [00:06<00:52,  3.05it/s]"
     ]
    },
    {
     "name": "stdout",
     "output_type": "stream",
     "text": [
      "Time 38: New reference time set to t=37...\n",
      "Time 38: Displacement_x(t=37) = 1.8366949778130885\n",
      "Total displacement_x = 1.8774933493581503\n",
      "Time 39: No displacement with reference t=0 found... Attempt to change the reference...\n"
     ]
    },
    {
     "name": "stderr",
     "output_type": "stream",
     "text": [
      "\r",
      " 20%|████████▍                                 | 40/199 [00:07<00:58,  2.70it/s]"
     ]
    },
    {
     "name": "stdout",
     "output_type": "stream",
     "text": [
      "Time 39: New reference time set to t=38...\n",
      "Time 39: Displacement_x(t=38) = 1.8774933493581503\n",
      "Total displacement_x = 1.8959097552001196\n",
      "Time 40: No displacement with reference t=0 found... Attempt to change the reference...\n"
     ]
    },
    {
     "name": "stderr",
     "output_type": "stream",
     "text": [
      "\r",
      " 21%|████████▋                                 | 41/199 [00:07<01:04,  2.45it/s]"
     ]
    },
    {
     "name": "stdout",
     "output_type": "stream",
     "text": [
      "Time 40: New reference time set to t=39...\n",
      "Time 40: Displacement_x(t=39) = 1.8959097552001196\n",
      "Total displacement_x = 1.864704806423143\n",
      "Time 41: No displacement with reference t=0 found... Attempt to change the reference...\n"
     ]
    },
    {
     "name": "stderr",
     "output_type": "stream",
     "text": [
      "\r",
      " 21%|████████▊                                 | 42/199 [00:08<01:08,  2.28it/s]"
     ]
    },
    {
     "name": "stdout",
     "output_type": "stream",
     "text": [
      "Time 41: New reference time set to t=40...\n",
      "Time 41: Displacement_x(t=40) = 1.864704806423143\n",
      "Total displacement_x = 1.9096365508553181\n",
      "Time 42: No displacement with reference t=0 found... Attempt to change the reference...\n"
     ]
    },
    {
     "name": "stderr",
     "output_type": "stream",
     "text": [
      "\r",
      " 22%|█████████                                 | 43/199 [00:08<01:11,  2.17it/s]"
     ]
    },
    {
     "name": "stdout",
     "output_type": "stream",
     "text": [
      "Time 42: New reference time set to t=41...\n",
      "Time 42: Displacement_x(t=41) = 1.9096365508553181\n",
      "Total displacement_x = 1.9345998674529346\n",
      "Time 43: No displacement with reference t=0 found... Attempt to change the reference...\n"
     ]
    },
    {
     "name": "stderr",
     "output_type": "stream",
     "text": [
      "\r",
      " 22%|█████████▎                                | 44/199 [00:09<01:14,  2.09it/s]"
     ]
    },
    {
     "name": "stdout",
     "output_type": "stream",
     "text": [
      "Time 43: New reference time set to t=42...\n",
      "Time 43: Displacement_x(t=42) = 1.9345998674529346\n",
      "Total displacement_x = 2.00572435828087\n",
      "Time 44: No displacement with reference t=0 found... Attempt to change the reference...\n"
     ]
    },
    {
     "name": "stderr",
     "output_type": "stream",
     "text": [
      "\r",
      " 23%|█████████▍                                | 45/199 [00:09<01:15,  2.04it/s]"
     ]
    },
    {
     "name": "stdout",
     "output_type": "stream",
     "text": [
      "Time 44: New reference time set to t=43...\n",
      "Time 44: Displacement_x(t=43) = 2.00572435828087\n",
      "Total displacement_x = 2.115854604268776\n",
      "Time 45: No displacement with reference t=0 found... Attempt to change the reference...\n"
     ]
    },
    {
     "name": "stderr",
     "output_type": "stream",
     "text": [
      "\r",
      " 23%|█████████▋                                | 46/199 [00:10<01:16,  2.01it/s]"
     ]
    },
    {
     "name": "stdout",
     "output_type": "stream",
     "text": [
      "Time 45: New reference time set to t=44...\n",
      "Time 45: Displacement_x(t=44) = 2.115854604268776\n",
      "Total displacement_x = 2.1430113074351644\n",
      "Time 46: No displacement with reference t=0 found... Attempt to change the reference...\n"
     ]
    },
    {
     "name": "stderr",
     "output_type": "stream",
     "text": [
      "\r",
      " 24%|█████████▉                                | 47/199 [00:10<01:16,  1.99it/s]"
     ]
    },
    {
     "name": "stdout",
     "output_type": "stream",
     "text": [
      "Time 46: New reference time set to t=45...\n",
      "Time 46: Displacement_x(t=45) = 2.1430113074351644\n",
      "Total displacement_x = 2.2086984735601165\n",
      "Time 47: No displacement with reference t=0 found... Attempt to change the reference...\n"
     ]
    },
    {
     "name": "stderr",
     "output_type": "stream",
     "text": [
      "\r",
      " 24%|██████████▏                               | 48/199 [00:11<01:16,  1.98it/s]"
     ]
    },
    {
     "name": "stdout",
     "output_type": "stream",
     "text": [
      "Time 47: New reference time set to t=46...\n",
      "Time 47: Displacement_x(t=46) = 2.2086984735601165\n",
      "Total displacement_x = 2.210269774218981\n",
      "Time 48: No displacement with reference t=0 found... Attempt to change the reference...\n"
     ]
    },
    {
     "name": "stderr",
     "output_type": "stream",
     "text": [
      "\r",
      " 25%|██████████▎                               | 49/199 [00:11<01:15,  1.98it/s]"
     ]
    },
    {
     "name": "stdout",
     "output_type": "stream",
     "text": [
      "Time 48: New reference time set to t=47...\n",
      "Time 48: Displacement_x(t=47) = 2.210269774218981\n",
      "Total displacement_x = 2.299111002113862\n",
      "Time 49: No displacement with reference t=0 found... Attempt to change the reference...\n"
     ]
    },
    {
     "name": "stderr",
     "output_type": "stream",
     "text": [
      "\r",
      " 25%|██████████▌                               | 50/199 [00:12<01:15,  1.98it/s]"
     ]
    },
    {
     "name": "stdout",
     "output_type": "stream",
     "text": [
      "Time 49: New reference time set to t=48...\n",
      "Time 49: Displacement_x(t=48) = 2.299111002113862\n",
      "Total displacement_x = 2.3340815091060496\n",
      "Time 50: No displacement with reference t=0 found... Attempt to change the reference...\n"
     ]
    },
    {
     "name": "stderr",
     "output_type": "stream",
     "text": [
      "\r",
      " 26%|██████████▊                               | 51/199 [00:12<01:14,  1.99it/s]"
     ]
    },
    {
     "name": "stdout",
     "output_type": "stream",
     "text": [
      "Time 50: New reference time set to t=49...\n",
      "Time 50: Displacement_x(t=49) = 2.3340815091060496\n",
      "Total displacement_x = 2.3769956350131576\n",
      "Time 51: No displacement with reference t=0 found... Attempt to change the reference...\n"
     ]
    },
    {
     "name": "stderr",
     "output_type": "stream",
     "text": [
      "\r",
      " 26%|██████████▉                               | 52/199 [00:13<01:13,  2.00it/s]"
     ]
    },
    {
     "name": "stdout",
     "output_type": "stream",
     "text": [
      "Time 51: New reference time set to t=50...\n",
      "Time 51: Displacement_x(t=50) = 2.3769956350131576\n",
      "Total displacement_x = 2.3828030781056095\n",
      "Time 52: No displacement with reference t=0 found... Attempt to change the reference...\n"
     ]
    },
    {
     "name": "stderr",
     "output_type": "stream",
     "text": [
      "\r",
      " 27%|███████████▏                              | 53/199 [00:13<01:12,  2.01it/s]"
     ]
    },
    {
     "name": "stdout",
     "output_type": "stream",
     "text": [
      "Time 52: New reference time set to t=51...\n",
      "Time 52: Displacement_x(t=51) = 2.3828030781056095\n",
      "Total displacement_x = 2.3733045972980897\n",
      "Time 53: No displacement with reference t=0 found... Attempt to change the reference...\n"
     ]
    },
    {
     "name": "stderr",
     "output_type": "stream",
     "text": [
      "\r",
      " 27%|███████████▍                              | 54/199 [00:14<01:11,  2.02it/s]"
     ]
    },
    {
     "name": "stdout",
     "output_type": "stream",
     "text": [
      "Time 53: New reference time set to t=52...\n",
      "Time 53: Displacement_x(t=52) = 2.3733045972980897\n",
      "Total displacement_x = 2.4719390069509783\n",
      "Time 54: No displacement with reference t=0 found... Attempt to change the reference...\n"
     ]
    },
    {
     "name": "stderr",
     "output_type": "stream",
     "text": [
      "\r",
      " 28%|███████████▌                              | 55/199 [00:14<01:10,  2.03it/s]"
     ]
    },
    {
     "name": "stdout",
     "output_type": "stream",
     "text": [
      "Time 54: New reference time set to t=53...\n",
      "Time 54: Displacement_x(t=53) = 2.4719390069509783\n",
      "Total displacement_x = 2.4865697981980666\n",
      "Time 55: No displacement with reference t=0 found... Attempt to change the reference...\n"
     ]
    },
    {
     "name": "stderr",
     "output_type": "stream",
     "text": [
      "\r",
      " 28%|███████████▊                              | 56/199 [00:15<01:10,  2.04it/s]"
     ]
    },
    {
     "name": "stdout",
     "output_type": "stream",
     "text": [
      "Time 55: New reference time set to t=54...\n",
      "Time 55: Displacement_x(t=54) = 2.4865697981980666\n",
      "Total displacement_x = 2.471576157647298\n",
      "Time 56: No displacement with reference t=0 found... Attempt to change the reference...\n"
     ]
    },
    {
     "name": "stderr",
     "output_type": "stream",
     "text": [
      "\r",
      " 29%|████████████                              | 57/199 [00:15<01:09,  2.05it/s]"
     ]
    },
    {
     "name": "stdout",
     "output_type": "stream",
     "text": [
      "Time 56: New reference time set to t=55...\n",
      "Time 56: Displacement_x(t=55) = 2.471576157647298\n",
      "Total displacement_x = 2.520279990704773\n",
      "Time 57: No displacement with reference t=0 found... Attempt to change the reference...\n"
     ]
    },
    {
     "name": "stderr",
     "output_type": "stream",
     "text": [
      "\r",
      " 29%|████████████▏                             | 58/199 [00:16<01:08,  2.06it/s]"
     ]
    },
    {
     "name": "stdout",
     "output_type": "stream",
     "text": [
      "Time 57: New reference time set to t=56...\n",
      "Time 57: Displacement_x(t=56) = 2.520279990704773\n",
      "Total displacement_x = 2.548710578426567\n",
      "Time 58: No displacement with reference t=0 found... Attempt to change the reference...\n"
     ]
    },
    {
     "name": "stderr",
     "output_type": "stream",
     "text": [
      "\r",
      " 30%|████████████▍                             | 59/199 [00:16<01:07,  2.08it/s]"
     ]
    },
    {
     "name": "stdout",
     "output_type": "stream",
     "text": [
      "Time 58: New reference time set to t=57...\n",
      "Time 58: Displacement_x(t=57) = 2.548710578426567\n",
      "Total displacement_x = 2.485739117062075\n",
      "Time 59: No displacement with reference t=0 found... Attempt to change the reference...\n"
     ]
    },
    {
     "name": "stderr",
     "output_type": "stream",
     "text": [
      "\r",
      " 30%|████████████▋                             | 60/199 [00:17<01:06,  2.08it/s]"
     ]
    },
    {
     "name": "stdout",
     "output_type": "stream",
     "text": [
      "Time 59: New reference time set to t=58...\n",
      "Time 59: Displacement_x(t=58) = 2.485739117062075\n",
      "Total displacement_x = 2.4879236272152903\n",
      "Time 60: No displacement with reference t=0 found... Attempt to change the reference...\n"
     ]
    },
    {
     "name": "stderr",
     "output_type": "stream",
     "text": [
      "\r",
      " 31%|████████████▊                             | 61/199 [00:17<01:05,  2.10it/s]"
     ]
    },
    {
     "name": "stdout",
     "output_type": "stream",
     "text": [
      "Time 60: New reference time set to t=59...\n",
      "Time 60: Displacement_x(t=59) = 2.4879236272152903\n",
      "Total displacement_x = 2.339195778094652\n",
      "Time 61: No displacement with reference t=0 found... Attempt to change the reference...\n"
     ]
    },
    {
     "name": "stderr",
     "output_type": "stream",
     "text": [
      "\r",
      " 31%|█████████████                             | 62/199 [00:18<01:05,  2.11it/s]"
     ]
    },
    {
     "name": "stdout",
     "output_type": "stream",
     "text": [
      "Time 61: New reference time set to t=60...\n",
      "Time 61: Displacement_x(t=60) = 2.339195778094652\n",
      "Total displacement_x = 2.293118624067215\n",
      "Time 62: No displacement with reference t=0 found... Attempt to change the reference...\n"
     ]
    },
    {
     "name": "stderr",
     "output_type": "stream",
     "text": [
      "\r",
      " 32%|█████████████▎                            | 63/199 [00:18<01:04,  2.11it/s]"
     ]
    },
    {
     "name": "stdout",
     "output_type": "stream",
     "text": [
      "Time 62: New reference time set to t=61...\n",
      "Time 62: Displacement_x(t=61) = 2.293118624067215\n",
      "Total displacement_x = 2.226263060423034\n",
      "Time 63: No displacement with reference t=0 found... Attempt to change the reference...\n"
     ]
    },
    {
     "name": "stderr",
     "output_type": "stream",
     "text": [
      "\r",
      " 32%|█████████████▌                            | 64/199 [00:19<01:03,  2.13it/s]"
     ]
    },
    {
     "name": "stdout",
     "output_type": "stream",
     "text": [
      "Time 63: New reference time set to t=62...\n",
      "Time 63: Displacement_x(t=62) = 2.226263060423034\n",
      "Total displacement_x = 2.2702090874776184\n",
      "Time 64: No displacement with reference t=0 found... Attempt to change the reference...\n"
     ]
    },
    {
     "name": "stderr",
     "output_type": "stream",
     "text": [
      "\r",
      " 33%|█████████████▋                            | 65/199 [00:19<01:02,  2.15it/s]"
     ]
    },
    {
     "name": "stdout",
     "output_type": "stream",
     "text": [
      "Time 64: New reference time set to t=63...\n",
      "Time 64: Displacement_x(t=63) = 2.2702090874776184\n",
      "Total displacement_x = 2.3177088896355094\n",
      "Time 65: No displacement with reference t=0 found... Attempt to change the reference...\n"
     ]
    },
    {
     "name": "stderr",
     "output_type": "stream",
     "text": [
      "\r",
      " 33%|█████████████▉                            | 66/199 [00:20<01:01,  2.16it/s]"
     ]
    },
    {
     "name": "stdout",
     "output_type": "stream",
     "text": [
      "Time 65: New reference time set to t=64...\n",
      "Time 65: Displacement_x(t=64) = 2.3177088896355094\n",
      "Total displacement_x = 2.4563558968610435\n",
      "Time 66: No displacement with reference t=0 found... Attempt to change the reference...\n"
     ]
    },
    {
     "name": "stderr",
     "output_type": "stream",
     "text": [
      "\r",
      " 34%|██████████████▏                           | 67/199 [00:20<01:00,  2.18it/s]"
     ]
    },
    {
     "name": "stdout",
     "output_type": "stream",
     "text": [
      "Time 66: New reference time set to t=65...\n",
      "Time 66: Displacement_x(t=65) = 2.4563558968610435\n",
      "Total displacement_x = 2.4533756448750474\n",
      "Time 67: No displacement with reference t=0 found... Attempt to change the reference...\n"
     ]
    },
    {
     "name": "stderr",
     "output_type": "stream",
     "text": [
      "\r",
      " 34%|██████████████▎                           | 68/199 [00:20<00:59,  2.19it/s]"
     ]
    },
    {
     "name": "stdout",
     "output_type": "stream",
     "text": [
      "Time 67: New reference time set to t=66...\n",
      "Time 67: Displacement_x(t=66) = 2.4533756448750474\n",
      "Total displacement_x = 2.5337330236990128\n",
      "Time 68: No displacement with reference t=0 found... Attempt to change the reference...\n"
     ]
    },
    {
     "name": "stderr",
     "output_type": "stream",
     "text": [
      "\r",
      " 35%|██████████████▌                           | 69/199 [00:21<00:58,  2.20it/s]"
     ]
    },
    {
     "name": "stdout",
     "output_type": "stream",
     "text": [
      "Time 68: New reference time set to t=67...\n",
      "Time 68: Displacement_x(t=67) = 2.5337330236990128\n",
      "Total displacement_x = 2.48413262247888\n",
      "Time 69: No displacement with reference t=0 found... Attempt to change the reference...\n"
     ]
    },
    {
     "name": "stderr",
     "output_type": "stream",
     "text": [
      "\r",
      " 35%|██████████████▊                           | 70/199 [00:21<00:58,  2.22it/s]"
     ]
    },
    {
     "name": "stdout",
     "output_type": "stream",
     "text": [
      "Time 69: New reference time set to t=68...\n",
      "Time 69: Displacement_x(t=68) = 2.48413262247888\n",
      "Total displacement_x = 2.3466394297562516\n",
      "Time 70: No displacement with reference t=0 found... Attempt to change the reference...\n"
     ]
    },
    {
     "name": "stderr",
     "output_type": "stream",
     "text": [
      "\r",
      " 36%|██████████████▉                           | 71/199 [00:22<00:57,  2.22it/s]"
     ]
    },
    {
     "name": "stdout",
     "output_type": "stream",
     "text": [
      "Time 70: New reference time set to t=69...\n",
      "Time 70: Displacement_x(t=69) = 2.3466394297562516\n",
      "Total displacement_x = 2.382655738339763\n",
      "Time 71: No displacement with reference t=0 found... Attempt to change the reference...\n"
     ]
    },
    {
     "name": "stderr",
     "output_type": "stream",
     "text": [
      "\r",
      " 36%|███████████████▏                          | 72/199 [00:22<00:56,  2.23it/s]"
     ]
    },
    {
     "name": "stdout",
     "output_type": "stream",
     "text": [
      "Time 71: New reference time set to t=70...\n",
      "Time 71: Displacement_x(t=70) = 2.382655738339763\n",
      "Total displacement_x = 2.3310076564437963\n",
      "Time 72: No displacement with reference t=0 found... Attempt to change the reference...\n"
     ]
    },
    {
     "name": "stderr",
     "output_type": "stream",
     "text": [
      "\r",
      " 37%|███████████████▍                          | 73/199 [00:23<00:55,  2.26it/s]"
     ]
    },
    {
     "name": "stdout",
     "output_type": "stream",
     "text": [
      "Time 72: New reference time set to t=71...\n",
      "Time 72: Displacement_x(t=71) = 2.3310076564437963\n",
      "Total displacement_x = 2.4338663757104597\n",
      "Time 73: No displacement with reference t=0 found... Attempt to change the reference...\n"
     ]
    },
    {
     "name": "stderr",
     "output_type": "stream",
     "text": [
      "\r",
      " 37%|███████████████▌                          | 74/199 [00:23<00:54,  2.28it/s]"
     ]
    },
    {
     "name": "stdout",
     "output_type": "stream",
     "text": [
      "Time 73: New reference time set to t=72...\n",
      "Time 73: Displacement_x(t=72) = 2.4338663757104597\n",
      "Total displacement_x = 2.5841069408994595\n",
      "Time 74: No displacement with reference t=0 found... Attempt to change the reference...\n"
     ]
    },
    {
     "name": "stderr",
     "output_type": "stream",
     "text": [
      "\r",
      " 38%|███████████████▊                          | 75/199 [00:24<00:54,  2.30it/s]"
     ]
    },
    {
     "name": "stdout",
     "output_type": "stream",
     "text": [
      "Time 74: New reference time set to t=73...\n",
      "Time 74: Displacement_x(t=73) = 2.5841069408994595\n",
      "Total displacement_x = 2.5173855280291995\n",
      "Time 75: No displacement with reference t=0 found... Attempt to change the reference...\n"
     ]
    },
    {
     "name": "stderr",
     "output_type": "stream",
     "text": [
      "\r",
      " 38%|████████████████                          | 76/199 [00:24<00:53,  2.31it/s]"
     ]
    },
    {
     "name": "stdout",
     "output_type": "stream",
     "text": [
      "Time 75: New reference time set to t=74...\n",
      "Time 75: Displacement_x(t=74) = 2.5173855280291995\n",
      "Total displacement_x = 2.534571415400478\n",
      "Time 76: No displacement with reference t=0 found... Attempt to change the reference...\n"
     ]
    },
    {
     "name": "stderr",
     "output_type": "stream",
     "text": [
      "\r",
      " 39%|████████████████▎                         | 77/199 [00:24<00:53,  2.30it/s]"
     ]
    },
    {
     "name": "stdout",
     "output_type": "stream",
     "text": [
      "Time 76: New reference time set to t=75...\n",
      "Time 76: Displacement_x(t=75) = 2.534571415400478\n",
      "Total displacement_x = 2.5715543673854797\n",
      "Time 77: No displacement with reference t=0 found... Attempt to change the reference...\n"
     ]
    },
    {
     "name": "stderr",
     "output_type": "stream",
     "text": [
      "\r",
      " 39%|████████████████▍                         | 78/199 [00:25<00:52,  2.30it/s]"
     ]
    },
    {
     "name": "stdout",
     "output_type": "stream",
     "text": [
      "Time 77: New reference time set to t=76...\n",
      "Time 77: Displacement_x(t=76) = 2.5715543673854797\n",
      "Total displacement_x = 2.59921663686634\n",
      "Time 78: No displacement with reference t=0 found... Attempt to change the reference...\n"
     ]
    },
    {
     "name": "stderr",
     "output_type": "stream",
     "text": [
      "\r",
      " 40%|████████████████▋                         | 79/199 [00:25<00:52,  2.31it/s]"
     ]
    },
    {
     "name": "stdout",
     "output_type": "stream",
     "text": [
      "Time 78: New reference time set to t=77...\n",
      "Time 78: Displacement_x(t=77) = 2.59921663686634\n",
      "Total displacement_x = 2.6904274923644462\n",
      "Time 79: No displacement with reference t=0 found... Attempt to change the reference...\n"
     ]
    },
    {
     "name": "stderr",
     "output_type": "stream",
     "text": [
      "\r",
      " 40%|████████████████▉                         | 80/199 [00:26<00:50,  2.34it/s]"
     ]
    },
    {
     "name": "stdout",
     "output_type": "stream",
     "text": [
      "Time 79: New reference time set to t=78...\n",
      "Time 79: Displacement_x(t=78) = 2.6904274923644462\n",
      "Total displacement_x = 2.7670669664702605\n",
      "Time 80: No displacement with reference t=0 found... Attempt to change the reference...\n"
     ]
    },
    {
     "name": "stderr",
     "output_type": "stream",
     "text": [
      "\r",
      " 41%|█████████████████                         | 81/199 [00:26<00:49,  2.36it/s]"
     ]
    },
    {
     "name": "stdout",
     "output_type": "stream",
     "text": [
      "Time 80: New reference time set to t=79...\n",
      "Time 80: Displacement_x(t=79) = 2.7670669664702605\n",
      "Total displacement_x = 2.745539013107918\n",
      "Time 81: No displacement with reference t=0 found... Attempt to change the reference...\n"
     ]
    },
    {
     "name": "stderr",
     "output_type": "stream",
     "text": [
      "\r",
      " 41%|█████████████████▎                        | 82/199 [00:26<00:49,  2.38it/s]"
     ]
    },
    {
     "name": "stdout",
     "output_type": "stream",
     "text": [
      "Time 81: New reference time set to t=80...\n",
      "Time 81: Displacement_x(t=80) = 2.745539013107918\n",
      "Total displacement_x = 2.7198865347079106\n",
      "Time 82: No displacement with reference t=0 found... Attempt to change the reference...\n"
     ]
    },
    {
     "name": "stderr",
     "output_type": "stream",
     "text": [
      "\r",
      " 42%|█████████████████▌                        | 83/199 [00:27<00:48,  2.39it/s]"
     ]
    },
    {
     "name": "stdout",
     "output_type": "stream",
     "text": [
      "Time 82: New reference time set to t=81...\n",
      "Time 82: Displacement_x(t=81) = 2.7198865347079106\n",
      "Total displacement_x = 2.7056402775744157\n",
      "Time 83: No displacement with reference t=0 found... Attempt to change the reference...\n"
     ]
    },
    {
     "name": "stderr",
     "output_type": "stream",
     "text": [
      "\r",
      " 42%|█████████████████▋                        | 84/199 [00:27<00:47,  2.40it/s]"
     ]
    },
    {
     "name": "stdout",
     "output_type": "stream",
     "text": [
      "Time 83: New reference time set to t=82...\n",
      "Time 83: Displacement_x(t=82) = 2.7056402775744157\n",
      "Total displacement_x = 2.6586956361659926\n",
      "Time 84: No displacement with reference t=0 found... Attempt to change the reference...\n"
     ]
    },
    {
     "name": "stderr",
     "output_type": "stream",
     "text": [
      "\r",
      " 43%|█████████████████▉                        | 85/199 [00:28<00:47,  2.41it/s]"
     ]
    },
    {
     "name": "stdout",
     "output_type": "stream",
     "text": [
      "Time 84: New reference time set to t=83...\n",
      "Time 84: Displacement_x(t=83) = 2.6586956361659926\n",
      "Total displacement_x = 2.806185664761619\n",
      "Time 85: No displacement with reference t=0 found... Attempt to change the reference...\n"
     ]
    },
    {
     "name": "stderr",
     "output_type": "stream",
     "text": [
      "\r",
      " 43%|██████████████████▏                       | 86/199 [00:28<00:46,  2.43it/s]"
     ]
    },
    {
     "name": "stdout",
     "output_type": "stream",
     "text": [
      "Time 85: New reference time set to t=84...\n",
      "Time 85: Displacement_x(t=84) = 2.806185664761619\n",
      "Total displacement_x = 2.8527408918641513\n",
      "Time 86: No displacement with reference t=0 found... Attempt to change the reference...\n"
     ]
    },
    {
     "name": "stderr",
     "output_type": "stream",
     "text": [
      "\r",
      " 44%|██████████████████▎                       | 87/199 [00:29<00:46,  2.42it/s]"
     ]
    },
    {
     "name": "stdout",
     "output_type": "stream",
     "text": [
      "Time 86: New reference time set to t=85...\n",
      "Time 86: Displacement_x(t=85) = 2.8527408918641513\n",
      "Total displacement_x = 2.8175357969841777\n",
      "Time 87: No displacement with reference t=0 found... Attempt to change the reference...\n"
     ]
    },
    {
     "name": "stderr",
     "output_type": "stream",
     "text": [
      "\r",
      " 44%|██████████████████▌                       | 88/199 [00:29<00:45,  2.44it/s]"
     ]
    },
    {
     "name": "stdout",
     "output_type": "stream",
     "text": [
      "Time 87: New reference time set to t=86...\n",
      "Time 87: Displacement_x(t=86) = 2.8175357969841777\n",
      "Total displacement_x = 2.865044239798657\n",
      "Time 88: No displacement with reference t=0 found... Attempt to change the reference...\n"
     ]
    },
    {
     "name": "stderr",
     "output_type": "stream",
     "text": [
      "\r",
      " 45%|██████████████████▊                       | 89/199 [00:29<00:44,  2.46it/s]"
     ]
    },
    {
     "name": "stdout",
     "output_type": "stream",
     "text": [
      "Time 88: New reference time set to t=87...\n",
      "Time 88: Displacement_x(t=87) = 2.865044239798657\n",
      "Total displacement_x = 2.706820527349743\n",
      "Time 89: No displacement with reference t=0 found... Attempt to change the reference...\n"
     ]
    },
    {
     "name": "stderr",
     "output_type": "stream",
     "text": [
      "\r",
      " 45%|██████████████████▉                       | 90/199 [00:30<00:44,  2.47it/s]"
     ]
    },
    {
     "name": "stdout",
     "output_type": "stream",
     "text": [
      "Time 89: New reference time set to t=88...\n",
      "Time 89: Displacement_x(t=88) = 2.706820527349743\n",
      "Total displacement_x = 2.7650576134674782\n",
      "Time 90: No displacement with reference t=0 found... Attempt to change the reference...\n"
     ]
    },
    {
     "name": "stderr",
     "output_type": "stream",
     "text": [
      "\r",
      " 46%|███████████████████▏                      | 91/199 [00:30<00:43,  2.48it/s]"
     ]
    },
    {
     "name": "stdout",
     "output_type": "stream",
     "text": [
      "Time 90: New reference time set to t=89...\n",
      "Time 90: Displacement_x(t=89) = 2.7650576134674782\n",
      "Total displacement_x = 2.7737848154225744\n",
      "Time 91: No displacement with reference t=0 found... Attempt to change the reference...\n"
     ]
    },
    {
     "name": "stderr",
     "output_type": "stream",
     "text": [
      "\r",
      " 46%|███████████████████▍                      | 92/199 [00:31<00:42,  2.51it/s]"
     ]
    },
    {
     "name": "stdout",
     "output_type": "stream",
     "text": [
      "Time 91: New reference time set to t=90...\n",
      "Time 91: Displacement_x(t=90) = 2.7737848154225744\n",
      "Total displacement_x = 2.7644892368310603\n",
      "Time 92: No displacement with reference t=0 found... Attempt to change the reference...\n"
     ]
    },
    {
     "name": "stderr",
     "output_type": "stream",
     "text": [
      "\r",
      " 47%|███████████████████▋                      | 93/199 [00:31<00:41,  2.53it/s]"
     ]
    },
    {
     "name": "stdout",
     "output_type": "stream",
     "text": [
      "Time 92: New reference time set to t=91...\n",
      "Time 92: Displacement_x(t=91) = 2.7644892368310603\n",
      "Total displacement_x = 2.7721768184467845\n",
      "Time 93: No displacement with reference t=0 found... Attempt to change the reference...\n"
     ]
    },
    {
     "name": "stderr",
     "output_type": "stream",
     "text": [
      "\r",
      " 47%|███████████████████▊                      | 94/199 [00:31<00:40,  2.56it/s]"
     ]
    },
    {
     "name": "stdout",
     "output_type": "stream",
     "text": [
      "Time 93: New reference time set to t=92...\n",
      "Time 93: Displacement_x(t=92) = 2.7721768184467845\n",
      "Total displacement_x = 2.831865700531849\n",
      "Time 94: No displacement with reference t=0 found... Attempt to change the reference...\n"
     ]
    },
    {
     "name": "stderr",
     "output_type": "stream",
     "text": [
      "\r",
      " 48%|████████████████████                      | 95/199 [00:32<00:40,  2.60it/s]"
     ]
    },
    {
     "name": "stdout",
     "output_type": "stream",
     "text": [
      "Time 94: New reference time set to t=93...\n",
      "Time 94: Displacement_x(t=93) = 2.831865700531849\n",
      "Total displacement_x = 2.839634006435\n",
      "Time 95: No displacement with reference t=0 found... Attempt to change the reference...\n"
     ]
    },
    {
     "name": "stderr",
     "output_type": "stream",
     "text": [
      "\r",
      " 48%|████████████████████▎                     | 96/199 [00:32<00:39,  2.63it/s]"
     ]
    },
    {
     "name": "stdout",
     "output_type": "stream",
     "text": [
      "Time 95: New reference time set to t=94...\n",
      "Time 95: Displacement_x(t=94) = 2.839634006435\n",
      "Total displacement_x = 2.839176193387518\n",
      "Time 96: No displacement with reference t=0 found... Attempt to change the reference...\n"
     ]
    },
    {
     "name": "stderr",
     "output_type": "stream",
     "text": [
      "\r",
      " 49%|████████████████████▍                     | 97/199 [00:32<00:38,  2.66it/s]"
     ]
    },
    {
     "name": "stdout",
     "output_type": "stream",
     "text": [
      "Time 96: New reference time set to t=95...\n",
      "Time 96: Displacement_x(t=95) = 2.839176193387518\n",
      "Total displacement_x = 2.8896988056053385\n",
      "Time 97: No displacement with reference t=0 found... Attempt to change the reference...\n"
     ]
    },
    {
     "name": "stderr",
     "output_type": "stream",
     "text": [
      "\r",
      " 49%|████████████████████▋                     | 98/199 [00:33<00:37,  2.69it/s]"
     ]
    },
    {
     "name": "stdout",
     "output_type": "stream",
     "text": [
      "Time 97: New reference time set to t=96...\n",
      "Time 97: Displacement_x(t=96) = 2.8896988056053385\n",
      "Total displacement_x = 2.8658268812189576\n",
      "Time 98: No displacement with reference t=0 found... Attempt to change the reference...\n"
     ]
    },
    {
     "name": "stderr",
     "output_type": "stream",
     "text": [
      "\r",
      " 50%|████████████████████▉                     | 99/199 [00:33<00:36,  2.71it/s]"
     ]
    },
    {
     "name": "stdout",
     "output_type": "stream",
     "text": [
      "Time 98: New reference time set to t=97...\n",
      "Time 98: Displacement_x(t=97) = 2.8658268812189576\n",
      "Total displacement_x = 2.8110229487760896\n",
      "Time 99: No displacement with reference t=0 found... Attempt to change the reference...\n"
     ]
    },
    {
     "name": "stderr",
     "output_type": "stream",
     "text": [
      "\r",
      " 50%|████████████████████▌                    | 100/199 [00:33<00:36,  2.74it/s]"
     ]
    },
    {
     "name": "stdout",
     "output_type": "stream",
     "text": [
      "Time 99: New reference time set to t=98...\n",
      "Time 99: Displacement_x(t=98) = 2.8110229487760896\n",
      "Total displacement_x = 2.760067566695478\n",
      "Time 100: No displacement with reference t=0 found... Attempt to change the reference...\n"
     ]
    },
    {
     "name": "stderr",
     "output_type": "stream",
     "text": [
      "\r",
      " 51%|████████████████████▊                    | 101/199 [00:34<00:35,  2.77it/s]"
     ]
    },
    {
     "name": "stdout",
     "output_type": "stream",
     "text": [
      "Time 100: New reference time set to t=99...\n",
      "Time 100: Displacement_x(t=99) = 2.760067566695478\n",
      "Total displacement_x = 2.8115620357474636\n",
      "Time 101: No displacement with reference t=0 found... Attempt to change the reference...\n"
     ]
    },
    {
     "name": "stderr",
     "output_type": "stream",
     "text": [
      "\r",
      " 51%|█████████████████████                    | 102/199 [00:34<00:34,  2.79it/s]"
     ]
    },
    {
     "name": "stdout",
     "output_type": "stream",
     "text": [
      "Time 101: New reference time set to t=100...\n",
      "Time 101: Displacement_x(t=100) = 2.8115620357474636\n",
      "Total displacement_x = 2.919254070368027\n",
      "Time 102: No displacement with reference t=0 found... Attempt to change the reference...\n"
     ]
    },
    {
     "name": "stderr",
     "output_type": "stream",
     "text": [
      "\r",
      " 52%|█████████████████████▏                   | 103/199 [00:35<00:34,  2.81it/s]"
     ]
    },
    {
     "name": "stdout",
     "output_type": "stream",
     "text": [
      "Time 102: New reference time set to t=101...\n",
      "Time 102: Displacement_x(t=101) = 2.919254070368027\n",
      "Total displacement_x = 3.009494235458958\n",
      "Time 103: No displacement with reference t=0 found... Attempt to change the reference...\n"
     ]
    },
    {
     "name": "stderr",
     "output_type": "stream",
     "text": [
      "\r",
      " 52%|█████████████████████▍                   | 104/199 [00:35<00:33,  2.84it/s]"
     ]
    },
    {
     "name": "stdout",
     "output_type": "stream",
     "text": [
      "Time 103: New reference time set to t=102...\n",
      "Time 103: Displacement_x(t=102) = 3.009494235458958\n",
      "Total displacement_x = 2.996120871490241\n",
      "Time 104: No displacement with reference t=0 found... Attempt to change the reference...\n"
     ]
    },
    {
     "name": "stderr",
     "output_type": "stream",
     "text": [
      "\r",
      " 53%|█████████████████████▋                   | 105/199 [00:35<00:33,  2.84it/s]"
     ]
    },
    {
     "name": "stdout",
     "output_type": "stream",
     "text": [
      "Time 104: New reference time set to t=103...\n",
      "Time 104: Displacement_x(t=103) = 2.996120871490241\n",
      "Total displacement_x = 3.035913429244778\n",
      "Time 105: No displacement with reference t=0 found... Attempt to change the reference...\n"
     ]
    },
    {
     "name": "stderr",
     "output_type": "stream",
     "text": [
      "\r",
      " 53%|█████████████████████▊                   | 106/199 [00:36<00:32,  2.85it/s]"
     ]
    },
    {
     "name": "stdout",
     "output_type": "stream",
     "text": [
      "Time 105: New reference time set to t=104...\n",
      "Time 105: Displacement_x(t=104) = 3.035913429244778\n",
      "Total displacement_x = 3.0160780818270823\n",
      "Time 106: No displacement with reference t=0 found... Attempt to change the reference...\n"
     ]
    },
    {
     "name": "stderr",
     "output_type": "stream",
     "text": [
      "\r",
      " 54%|██████████████████████                   | 107/199 [00:36<00:31,  2.88it/s]"
     ]
    },
    {
     "name": "stdout",
     "output_type": "stream",
     "text": [
      "Time 106: New reference time set to t=105...\n",
      "Time 106: Displacement_x(t=105) = 3.0160780818270823\n",
      "Total displacement_x = 3.08875523570506\n",
      "Time 107: No displacement with reference t=0 found... Attempt to change the reference...\n"
     ]
    },
    {
     "name": "stderr",
     "output_type": "stream",
     "text": [
      "\r",
      " 54%|██████████████████████▎                  | 108/199 [00:36<00:31,  2.90it/s]"
     ]
    },
    {
     "name": "stdout",
     "output_type": "stream",
     "text": [
      "Time 107: New reference time set to t=106...\n",
      "Time 107: Displacement_x(t=106) = 3.08875523570506\n",
      "Total displacement_x = 3.08598084039643\n",
      "Time 108: No displacement with reference t=0 found... Attempt to change the reference...\n"
     ]
    },
    {
     "name": "stderr",
     "output_type": "stream",
     "text": [
      "\r",
      " 55%|██████████████████████▍                  | 109/199 [00:37<00:30,  2.94it/s]"
     ]
    },
    {
     "name": "stdout",
     "output_type": "stream",
     "text": [
      "Time 108: New reference time set to t=107...\n",
      "Time 108: Displacement_x(t=107) = 3.08598084039643\n",
      "Total displacement_x = 2.960864964393508\n",
      "Time 109: No displacement with reference t=0 found... Attempt to change the reference...\n"
     ]
    },
    {
     "name": "stderr",
     "output_type": "stream",
     "text": [
      "\r",
      " 55%|██████████████████████▋                  | 110/199 [00:37<00:29,  2.97it/s]"
     ]
    },
    {
     "name": "stdout",
     "output_type": "stream",
     "text": [
      "Time 109: New reference time set to t=108...\n",
      "Time 109: Displacement_x(t=108) = 2.960864964393508\n",
      "Total displacement_x = 2.91340191888857\n",
      "Time 110: No displacement with reference t=0 found... Attempt to change the reference...\n"
     ]
    },
    {
     "name": "stderr",
     "output_type": "stream",
     "text": [
      "\r",
      " 56%|██████████████████████▊                  | 111/199 [00:37<00:29,  3.00it/s]"
     ]
    },
    {
     "name": "stdout",
     "output_type": "stream",
     "text": [
      "Time 110: New reference time set to t=109...\n",
      "Time 110: Displacement_x(t=109) = 2.91340191888857\n",
      "Total displacement_x = 2.9710506131388716\n",
      "Time 111: No displacement with reference t=0 found... Attempt to change the reference...\n"
     ]
    },
    {
     "name": "stderr",
     "output_type": "stream",
     "text": [
      "\r",
      " 56%|███████████████████████                  | 112/199 [00:38<00:28,  3.04it/s]"
     ]
    },
    {
     "name": "stdout",
     "output_type": "stream",
     "text": [
      "Time 111: New reference time set to t=110...\n",
      "Time 111: Displacement_x(t=110) = 2.9710506131388716\n",
      "Total displacement_x = 3.0416041479809524\n",
      "Time 112: No displacement with reference t=0 found... Attempt to change the reference...\n"
     ]
    },
    {
     "name": "stderr",
     "output_type": "stream",
     "text": [
      "\r",
      " 57%|███████████████████████▎                 | 113/199 [00:38<00:28,  3.06it/s]"
     ]
    },
    {
     "name": "stdout",
     "output_type": "stream",
     "text": [
      "Time 112: New reference time set to t=111...\n",
      "Time 112: Displacement_x(t=111) = 3.0416041479809524\n",
      "Total displacement_x = 3.0744948302720947\n",
      "Time 113: No displacement with reference t=0 found... Attempt to change the reference...\n"
     ]
    },
    {
     "name": "stderr",
     "output_type": "stream",
     "text": [
      "\r",
      " 57%|███████████████████████▍                 | 114/199 [00:38<00:27,  3.08it/s]"
     ]
    },
    {
     "name": "stdout",
     "output_type": "stream",
     "text": [
      "Time 113: New reference time set to t=112...\n",
      "Time 113: Displacement_x(t=112) = 3.0744948302720947\n",
      "Total displacement_x = 3.0690144901798417\n",
      "Time 114: No displacement with reference t=0 found... Attempt to change the reference...\n"
     ]
    },
    {
     "name": "stderr",
     "output_type": "stream",
     "text": [
      "\r",
      " 58%|███████████████████████▋                 | 115/199 [00:39<00:26,  3.12it/s]"
     ]
    },
    {
     "name": "stdout",
     "output_type": "stream",
     "text": [
      "Time 114: New reference time set to t=113...\n",
      "Time 114: Displacement_x(t=113) = 3.0690144901798417\n",
      "Total displacement_x = 3.0554940762401492\n",
      "Time 115: No displacement with reference t=0 found... Attempt to change the reference...\n"
     ]
    },
    {
     "name": "stderr",
     "output_type": "stream",
     "text": [
      "\r",
      " 58%|███████████████████████▉                 | 116/199 [00:39<00:26,  3.16it/s]"
     ]
    },
    {
     "name": "stdout",
     "output_type": "stream",
     "text": [
      "Time 115: New reference time set to t=114...\n",
      "Time 115: Displacement_x(t=114) = 3.0554940762401492\n",
      "Total displacement_x = 3.2300208882954298\n",
      "Time 116: No displacement with reference t=0 found... Attempt to change the reference...\n"
     ]
    },
    {
     "name": "stderr",
     "output_type": "stream",
     "text": [
      "\r",
      " 59%|████████████████████████                 | 117/199 [00:39<00:25,  3.17it/s]"
     ]
    },
    {
     "name": "stdout",
     "output_type": "stream",
     "text": [
      "Time 116: New reference time set to t=115...\n",
      "Time 116: Displacement_x(t=115) = 3.2300208882954298\n",
      "Total displacement_x = 3.2079177471893323\n",
      "Time 117: No displacement with reference t=0 found... Attempt to change the reference...\n"
     ]
    },
    {
     "name": "stderr",
     "output_type": "stream",
     "text": [
      "\r",
      " 59%|████████████████████████▎                | 118/199 [00:39<00:25,  3.22it/s]"
     ]
    },
    {
     "name": "stdout",
     "output_type": "stream",
     "text": [
      "Time 117: New reference time set to t=116...\n",
      "Time 117: Displacement_x(t=116) = 3.2079177471893323\n",
      "Total displacement_x = 3.2363797207291403\n",
      "Time 118: No displacement with reference t=0 found... Attempt to change the reference...\n"
     ]
    },
    {
     "name": "stderr",
     "output_type": "stream",
     "text": [
      "\r",
      " 60%|████████████████████████▌                | 119/199 [00:40<00:24,  3.25it/s]"
     ]
    },
    {
     "name": "stdout",
     "output_type": "stream",
     "text": [
      "Time 118: New reference time set to t=117...\n",
      "Time 118: Displacement_x(t=117) = 3.2363797207291403\n",
      "Total displacement_x = 3.2335403161879355\n",
      "Time 119: No displacement with reference t=0 found... Attempt to change the reference...\n"
     ]
    },
    {
     "name": "stderr",
     "output_type": "stream",
     "text": [
      "\r",
      " 60%|████████████████████████▋                | 120/199 [00:40<00:24,  3.28it/s]"
     ]
    },
    {
     "name": "stdout",
     "output_type": "stream",
     "text": [
      "Time 119: New reference time set to t=118...\n",
      "Time 119: Displacement_x(t=118) = 3.2335403161879355\n",
      "Total displacement_x = 3.249927675443241\n",
      "Time 120: No displacement with reference t=0 found... Attempt to change the reference...\n"
     ]
    },
    {
     "name": "stderr",
     "output_type": "stream",
     "text": [
      "\r",
      " 61%|████████████████████████▉                | 121/199 [00:40<00:23,  3.31it/s]"
     ]
    },
    {
     "name": "stdout",
     "output_type": "stream",
     "text": [
      "Time 120: New reference time set to t=119...\n",
      "Time 120: Displacement_x(t=119) = 3.249927675443241\n",
      "Total displacement_x = 3.1720919935626353\n",
      "Time 121: No displacement with reference t=0 found... Attempt to change the reference...\n"
     ]
    },
    {
     "name": "stderr",
     "output_type": "stream",
     "text": [
      "\r",
      " 61%|█████████████████████████▏               | 122/199 [00:41<00:23,  3.32it/s]"
     ]
    },
    {
     "name": "stdout",
     "output_type": "stream",
     "text": [
      "Time 121: New reference time set to t=120...\n",
      "Time 121: Displacement_x(t=120) = 3.1720919935626353\n",
      "Total displacement_x = 3.2552072530741185\n",
      "Time 122: No displacement with reference t=0 found... Attempt to change the reference...\n"
     ]
    },
    {
     "name": "stderr",
     "output_type": "stream",
     "text": [
      "\r",
      " 62%|█████████████████████████▎               | 123/199 [00:41<00:22,  3.37it/s]"
     ]
    },
    {
     "name": "stdout",
     "output_type": "stream",
     "text": [
      "Time 122: New reference time set to t=121...\n",
      "Time 122: Displacement_x(t=121) = 3.2552072530741185\n",
      "Total displacement_x = 3.1581994716367547\n",
      "Time 123: No displacement with reference t=0 found... Attempt to change the reference...\n"
     ]
    },
    {
     "name": "stderr",
     "output_type": "stream",
     "text": [
      "\r",
      " 62%|█████████████████████████▌               | 124/199 [00:41<00:22,  3.41it/s]"
     ]
    },
    {
     "name": "stdout",
     "output_type": "stream",
     "text": [
      "Time 123: New reference time set to t=122...\n",
      "Time 123: Displacement_x(t=122) = 3.1581994716367547\n",
      "Total displacement_x = 3.2714510788203803\n",
      "Time 124: No displacement with reference t=0 found... Attempt to change the reference...\n"
     ]
    },
    {
     "name": "stderr",
     "output_type": "stream",
     "text": [
      "\r",
      " 63%|█████████████████████████▊               | 125/199 [00:41<00:21,  3.45it/s]"
     ]
    },
    {
     "name": "stdout",
     "output_type": "stream",
     "text": [
      "Time 124: New reference time set to t=123...\n",
      "Time 124: Displacement_x(t=123) = 3.2714510788203803\n",
      "Total displacement_x = 3.228874285681592\n",
      "Time 125: No displacement with reference t=0 found... Attempt to change the reference...\n"
     ]
    },
    {
     "name": "stderr",
     "output_type": "stream",
     "text": [
      "\r",
      " 63%|█████████████████████████▉               | 126/199 [00:42<00:20,  3.49it/s]"
     ]
    },
    {
     "name": "stdout",
     "output_type": "stream",
     "text": [
      "Time 125: New reference time set to t=124...\n",
      "Time 125: Displacement_x(t=124) = 3.228874285681592\n",
      "Total displacement_x = 3.225170170548267\n",
      "Time 126: No displacement with reference t=0 found... Attempt to change the reference...\n"
     ]
    },
    {
     "name": "stderr",
     "output_type": "stream",
     "text": [
      "\r",
      " 64%|██████████████████████████▏              | 127/199 [00:42<00:20,  3.50it/s]"
     ]
    },
    {
     "name": "stdout",
     "output_type": "stream",
     "text": [
      "Time 126: New reference time set to t=125...\n",
      "Time 126: Displacement_x(t=125) = 3.225170170548267\n",
      "Total displacement_x = 3.2624727586914584\n",
      "Time 127: No displacement with reference t=0 found... Attempt to change the reference...\n"
     ]
    },
    {
     "name": "stderr",
     "output_type": "stream",
     "text": [
      "\r",
      " 64%|██████████████████████████▎              | 128/199 [00:42<00:21,  3.32it/s]"
     ]
    },
    {
     "name": "stdout",
     "output_type": "stream",
     "text": [
      "Time 127: New reference time set to t=126...\n",
      "Time 127: Displacement_x(t=126) = 3.2624727586914584\n",
      "Total displacement_x = 3.3985942030827427\n",
      "Time 128: No displacement with reference t=0 found... Attempt to change the reference...\n"
     ]
    },
    {
     "name": "stderr",
     "output_type": "stream",
     "text": [
      "\r",
      " 65%|██████████████████████████▌              | 129/199 [00:43<00:20,  3.40it/s]"
     ]
    },
    {
     "name": "stdout",
     "output_type": "stream",
     "text": [
      "Time 128: New reference time set to t=127...\n",
      "Time 128: Displacement_x(t=127) = 3.3985942030827427\n",
      "Total displacement_x = 3.3165711258439825\n",
      "Time 129: No displacement with reference t=0 found... Attempt to change the reference...\n"
     ]
    },
    {
     "name": "stderr",
     "output_type": "stream",
     "text": [
      "\r",
      " 65%|██████████████████████████▊              | 130/199 [00:43<00:19,  3.49it/s]"
     ]
    },
    {
     "name": "stdout",
     "output_type": "stream",
     "text": [
      "Time 129: New reference time set to t=128...\n",
      "Time 129: Displacement_x(t=128) = 3.3165711258439825\n",
      "Total displacement_x = 3.2871395306085947\n",
      "Time 130: No displacement with reference t=0 found... Attempt to change the reference...\n"
     ]
    },
    {
     "name": "stderr",
     "output_type": "stream",
     "text": [
      "\r",
      " 66%|██████████████████████████▉              | 131/199 [00:43<00:19,  3.56it/s]"
     ]
    },
    {
     "name": "stdout",
     "output_type": "stream",
     "text": [
      "Time 130: New reference time set to t=129...\n",
      "Time 130: Displacement_x(t=129) = 3.2871395306085947\n",
      "Total displacement_x = 3.2107328706302187\n",
      "Time 131: No displacement with reference t=0 found... Attempt to change the reference...\n"
     ]
    },
    {
     "name": "stderr",
     "output_type": "stream",
     "text": [
      "\r",
      " 66%|███████████████████████████▏             | 132/199 [00:43<00:18,  3.63it/s]"
     ]
    },
    {
     "name": "stdout",
     "output_type": "stream",
     "text": [
      "Time 131: New reference time set to t=130...\n",
      "Time 131: Displacement_x(t=130) = 3.2107328706302187\n",
      "Total displacement_x = 3.1218386787263523\n",
      "Time 132: No displacement with reference t=0 found... Attempt to change the reference...\n"
     ]
    },
    {
     "name": "stderr",
     "output_type": "stream",
     "text": [
      "\r",
      " 67%|███████████████████████████▍             | 133/199 [00:44<00:17,  3.70it/s]"
     ]
    },
    {
     "name": "stdout",
     "output_type": "stream",
     "text": [
      "Time 132: New reference time set to t=131...\n",
      "Time 132: Displacement_x(t=131) = 3.1218386787263523\n",
      "Total displacement_x = 3.1984405898766415\n",
      "Time 133: No displacement with reference t=0 found... Attempt to change the reference...\n"
     ]
    },
    {
     "name": "stderr",
     "output_type": "stream",
     "text": [
      "\r",
      " 67%|███████████████████████████▌             | 134/199 [00:44<00:17,  3.75it/s]"
     ]
    },
    {
     "name": "stdout",
     "output_type": "stream",
     "text": [
      "Time 133: New reference time set to t=132...\n",
      "Time 133: Displacement_x(t=132) = 3.1984405898766415\n",
      "Total displacement_x = 3.2176120310242067\n",
      "Time 134: No displacement with reference t=0 found... Attempt to change the reference...\n"
     ]
    },
    {
     "name": "stderr",
     "output_type": "stream",
     "text": [
      "\r",
      " 68%|███████████████████████████▊             | 135/199 [00:44<00:16,  3.79it/s]"
     ]
    },
    {
     "name": "stdout",
     "output_type": "stream",
     "text": [
      "Time 134: New reference time set to t=133...\n",
      "Time 134: Displacement_x(t=133) = 3.2176120310242067\n",
      "Total displacement_x = 3.2692627990997614\n",
      "Time 135: No displacement with reference t=0 found... Attempt to change the reference...\n"
     ]
    },
    {
     "name": "stderr",
     "output_type": "stream",
     "text": [
      "\r",
      " 68%|████████████████████████████             | 136/199 [00:44<00:16,  3.84it/s]"
     ]
    },
    {
     "name": "stdout",
     "output_type": "stream",
     "text": [
      "Time 135: New reference time set to t=134...\n",
      "Time 135: Displacement_x(t=134) = 3.2692627990997614\n",
      "Total displacement_x = 3.214262474858922\n",
      "Time 136: No displacement with reference t=0 found... Attempt to change the reference...\n"
     ]
    },
    {
     "name": "stderr",
     "output_type": "stream",
     "text": [
      "\r",
      " 69%|████████████████████████████▏            | 137/199 [00:45<00:15,  3.90it/s]"
     ]
    },
    {
     "name": "stdout",
     "output_type": "stream",
     "text": [
      "Time 136: New reference time set to t=135...\n",
      "Time 136: Displacement_x(t=135) = 3.214262474858922\n",
      "Total displacement_x = 3.2506454371795774\n",
      "Time 137: No displacement with reference t=0 found... Attempt to change the reference...\n"
     ]
    },
    {
     "name": "stderr",
     "output_type": "stream",
     "text": [
      "\r",
      " 69%|████████████████████████████▍            | 138/199 [00:45<00:15,  3.95it/s]"
     ]
    },
    {
     "name": "stdout",
     "output_type": "stream",
     "text": [
      "Time 137: New reference time set to t=136...\n",
      "Time 137: Displacement_x(t=136) = 3.2506454371795774\n",
      "Total displacement_x = 3.2443220855072115\n",
      "Time 138: No displacement with reference t=0 found... Attempt to change the reference...\n"
     ]
    },
    {
     "name": "stderr",
     "output_type": "stream",
     "text": [
      "\r",
      " 70%|████████████████████████████▋            | 139/199 [00:45<00:15,  3.98it/s]"
     ]
    },
    {
     "name": "stdout",
     "output_type": "stream",
     "text": [
      "Time 138: New reference time set to t=137...\n",
      "Time 138: Displacement_x(t=137) = 3.2443220855072115\n",
      "Total displacement_x = 3.3419197907609672\n",
      "Time 139: No displacement with reference t=0 found... Attempt to change the reference...\n"
     ]
    },
    {
     "name": "stderr",
     "output_type": "stream",
     "text": [
      "\r",
      " 70%|████████████████████████████▊            | 140/199 [00:45<00:14,  4.04it/s]"
     ]
    },
    {
     "name": "stdout",
     "output_type": "stream",
     "text": [
      "Time 139: New reference time set to t=138...\n",
      "Time 139: Displacement_x(t=138) = 3.3419197907609672\n",
      "Total displacement_x = 3.3518284028571097\n",
      "Time 140: No displacement with reference t=0 found... Attempt to change the reference...\n"
     ]
    },
    {
     "name": "stderr",
     "output_type": "stream",
     "text": [
      "\r",
      " 71%|█████████████████████████████            | 141/199 [00:46<00:14,  4.10it/s]"
     ]
    },
    {
     "name": "stdout",
     "output_type": "stream",
     "text": [
      "Time 140: New reference time set to t=139...\n",
      "Time 140: Displacement_x(t=139) = 3.3518284028571097\n",
      "Total displacement_x = 3.283058907240622\n",
      "Time 141: No displacement with reference t=0 found... Attempt to change the reference...\n"
     ]
    },
    {
     "name": "stderr",
     "output_type": "stream",
     "text": [
      "\r",
      " 71%|█████████████████████████████▎           | 142/199 [00:46<00:13,  4.11it/s]"
     ]
    },
    {
     "name": "stdout",
     "output_type": "stream",
     "text": [
      "Time 141: New reference time set to t=140...\n",
      "Time 141: Displacement_x(t=140) = 3.283058907240622\n",
      "Total displacement_x = 3.258715063334408\n",
      "Time 142: No displacement with reference t=0 found... Attempt to change the reference...\n"
     ]
    },
    {
     "name": "stderr",
     "output_type": "stream",
     "text": [
      "\r",
      " 72%|█████████████████████████████▍           | 143/199 [00:46<00:13,  4.18it/s]"
     ]
    },
    {
     "name": "stdout",
     "output_type": "stream",
     "text": [
      "Time 142: New reference time set to t=141...\n",
      "Time 142: Displacement_x(t=141) = 3.258715063334408\n",
      "Total displacement_x = 3.271622345001496\n",
      "Time 143: No displacement with reference t=0 found... Attempt to change the reference...\n"
     ]
    },
    {
     "name": "stderr",
     "output_type": "stream",
     "text": [
      "\r",
      " 72%|█████████████████████████████▋           | 144/199 [00:46<00:12,  4.25it/s]"
     ]
    },
    {
     "name": "stdout",
     "output_type": "stream",
     "text": [
      "Time 143: New reference time set to t=142...\n",
      "Time 143: Displacement_x(t=142) = 3.271622345001496\n",
      "Total displacement_x = 3.2435604078614704\n",
      "Time 144: No displacement with reference t=0 found... Attempt to change the reference...\n"
     ]
    },
    {
     "name": "stderr",
     "output_type": "stream",
     "text": [
      "\r",
      " 73%|█████████████████████████████▊           | 145/199 [00:47<00:12,  4.34it/s]"
     ]
    },
    {
     "name": "stdout",
     "output_type": "stream",
     "text": [
      "Time 144: New reference time set to t=143...\n",
      "Time 144: Displacement_x(t=143) = 3.2435604078614704\n",
      "Total displacement_x = 3.2786168586405\n",
      "Time 145: No displacement with reference t=0 found... Attempt to change the reference...\n"
     ]
    },
    {
     "name": "stderr",
     "output_type": "stream",
     "text": [
      "\r",
      " 73%|██████████████████████████████           | 146/199 [00:47<00:11,  4.42it/s]"
     ]
    },
    {
     "name": "stdout",
     "output_type": "stream",
     "text": [
      "Time 145: New reference time set to t=144...\n",
      "Time 145: Displacement_x(t=144) = 3.2786168586405\n",
      "Total displacement_x = 3.2920968884259696\n",
      "Time 146: No displacement with reference t=0 found... Attempt to change the reference...\n"
     ]
    },
    {
     "name": "stderr",
     "output_type": "stream",
     "text": [
      "\r",
      " 74%|██████████████████████████████▎          | 147/199 [00:47<00:11,  4.49it/s]"
     ]
    },
    {
     "name": "stdout",
     "output_type": "stream",
     "text": [
      "Time 146: New reference time set to t=145...\n",
      "Time 146: Displacement_x(t=145) = 3.2920968884259696\n",
      "Total displacement_x = 3.232695069984361\n",
      "Time 147: No displacement with reference t=0 found... Attempt to change the reference...\n"
     ]
    },
    {
     "name": "stderr",
     "output_type": "stream",
     "text": [
      "\r",
      " 74%|██████████████████████████████▍          | 148/199 [00:47<00:11,  4.48it/s]"
     ]
    },
    {
     "name": "stdout",
     "output_type": "stream",
     "text": [
      "Time 147: New reference time set to t=146...\n",
      "Time 147: Displacement_x(t=146) = 3.232695069984361\n",
      "Total displacement_x = 3.301110722798351\n",
      "Time 148: No displacement with reference t=0 found... Attempt to change the reference...\n"
     ]
    },
    {
     "name": "stderr",
     "output_type": "stream",
     "text": [
      "\r",
      " 75%|██████████████████████████████▋          | 149/199 [00:47<00:11,  4.53it/s]"
     ]
    },
    {
     "name": "stdout",
     "output_type": "stream",
     "text": [
      "Time 148: New reference time set to t=147...\n",
      "Time 148: Displacement_x(t=147) = 3.301110722798351\n",
      "Total displacement_x = 3.249690755643375\n",
      "Time 149: No displacement with reference t=0 found... Attempt to change the reference...\n"
     ]
    },
    {
     "name": "stderr",
     "output_type": "stream",
     "text": [
      "\r",
      " 75%|██████████████████████████████▉          | 150/199 [00:48<00:10,  4.60it/s]"
     ]
    },
    {
     "name": "stdout",
     "output_type": "stream",
     "text": [
      "Time 149: New reference time set to t=148...\n",
      "Time 149: Displacement_x(t=148) = 3.249690755643375\n",
      "Total displacement_x = 3.27326247345332\n",
      "Time 150: No displacement with reference t=0 found... Attempt to change the reference...\n",
      "Time 150: New reference time set to t=149...\n",
      "Time 150: Displacement_x(t=149) = 3.27326247345332\n",
      "Total displacement_x = 3.2844539216948525\n"
     ]
    },
    {
     "name": "stderr",
     "output_type": "stream",
     "text": [
      "\r",
      " 76%|███████████████████████████████          | 151/199 [00:48<00:10,  4.70it/s]"
     ]
    },
    {
     "name": "stdout",
     "output_type": "stream",
     "text": [
      "Time 151: No displacement with reference t=0 found... Attempt to change the reference...\n"
     ]
    },
    {
     "name": "stderr",
     "output_type": "stream",
     "text": [
      " 77%|███████████████████████████████▌         | 153/199 [00:48<00:09,  4.75it/s]"
     ]
    },
    {
     "name": "stdout",
     "output_type": "stream",
     "text": [
      "Time 151: New reference time set to t=150...\n",
      "Time 151: Displacement_x(t=150) = 3.2844539216948525\n",
      "Total displacement_x = 3.3106322664869783\n",
      "Time 152: No displacement with reference t=0 found... Attempt to change the reference...\n",
      "Time 152: New reference time set to t=151...\n",
      "Time 152: Displacement_x(t=151) = 3.3106322664869783\n",
      "Total displacement_x = 3.415453530682599\n",
      "Time 153: No displacement with reference t=0 found... Attempt to change the reference...\n"
     ]
    },
    {
     "name": "stderr",
     "output_type": "stream",
     "text": [
      " 78%|███████████████████████████████▉         | 155/199 [00:49<00:08,  4.98it/s]"
     ]
    },
    {
     "name": "stdout",
     "output_type": "stream",
     "text": [
      "Time 153: New reference time set to t=152...\n",
      "Time 153: Displacement_x(t=152) = 3.415453530682599\n",
      "Total displacement_x = 3.451925506310468\n",
      "Time 154: No displacement with reference t=0 found... Attempt to change the reference...\n",
      "Time 154: New reference time set to t=153...\n",
      "Time 154: Displacement_x(t=153) = 3.451925506310468\n",
      "Total displacement_x = 3.5240332906024427\n",
      "Time 155: No displacement with reference t=0 found... Attempt to change the reference...\n"
     ]
    },
    {
     "name": "stderr",
     "output_type": "stream",
     "text": [
      " 79%|████████████████████████████████▎        | 157/199 [00:49<00:08,  5.11it/s]"
     ]
    },
    {
     "name": "stdout",
     "output_type": "stream",
     "text": [
      "Time 155: New reference time set to t=154...\n",
      "Time 155: Displacement_x(t=154) = 3.5240332906024427\n",
      "Total displacement_x = 3.4669151828143088\n",
      "Time 156: No displacement with reference t=0 found... Attempt to change the reference...\n",
      "Time 156: New reference time set to t=155...\n",
      "Time 156: Displacement_x(t=155) = 3.4669151828143088\n",
      "Total displacement_x = 3.486706162087827\n",
      "Time 157: No displacement with reference t=0 found... Attempt to change the reference...\n"
     ]
    },
    {
     "name": "stderr",
     "output_type": "stream",
     "text": [
      " 80%|████████████████████████████████▊        | 159/199 [00:49<00:07,  5.28it/s]"
     ]
    },
    {
     "name": "stdout",
     "output_type": "stream",
     "text": [
      "Time 157: New reference time set to t=156...\n",
      "Time 157: Displacement_x(t=156) = 3.486706162087827\n",
      "Total displacement_x = 3.5310595517620924\n",
      "Time 158: No displacement with reference t=0 found... Attempt to change the reference...\n",
      "Time 158: New reference time set to t=157...\n",
      "Time 158: Displacement_x(t=157) = 3.5310595517620924\n",
      "Total displacement_x = 3.591520917744863\n",
      "Time 159: No displacement with reference t=0 found... Attempt to change the reference...\n"
     ]
    },
    {
     "name": "stderr",
     "output_type": "stream",
     "text": [
      " 81%|█████████████████████████████████▏       | 161/199 [00:50<00:07,  5.42it/s]"
     ]
    },
    {
     "name": "stdout",
     "output_type": "stream",
     "text": [
      "Time 159: New reference time set to t=158...\n",
      "Time 159: Displacement_x(t=158) = 3.591520917744863\n",
      "Total displacement_x = 3.6001666154054046\n",
      "Time 160: No displacement with reference t=0 found... Attempt to change the reference...\n",
      "Time 160: New reference time set to t=159...\n",
      "Time 160: Displacement_x(t=159) = 3.6001666154054046\n",
      "Total displacement_x = 3.5834515526341106\n",
      "Time 161: No displacement with reference t=0 found... Attempt to change the reference...\n"
     ]
    },
    {
     "name": "stderr",
     "output_type": "stream",
     "text": [
      " 82%|█████████████████████████████████▌       | 163/199 [00:50<00:06,  5.56it/s]"
     ]
    },
    {
     "name": "stdout",
     "output_type": "stream",
     "text": [
      "Time 161: New reference time set to t=160...\n",
      "Time 161: Displacement_x(t=160) = 3.5834515526341106\n",
      "Total displacement_x = 3.5929495913162204\n",
      "Time 162: No displacement with reference t=0 found... Attempt to change the reference...\n",
      "Time 162: New reference time set to t=161...\n",
      "Time 162: Displacement_x(t=161) = 3.5929495913162204\n",
      "Total displacement_x = 3.562848215913511\n",
      "Time 163: No displacement with reference t=0 found... Attempt to change the reference...\n"
     ]
    },
    {
     "name": "stderr",
     "output_type": "stream",
     "text": [
      " 83%|█████████████████████████████████▉       | 165/199 [00:50<00:05,  5.83it/s]"
     ]
    },
    {
     "name": "stdout",
     "output_type": "stream",
     "text": [
      "Time 163: New reference time set to t=162...\n",
      "Time 163: Displacement_x(t=162) = 3.562848215913511\n",
      "Total displacement_x = 3.541868714080938\n",
      "Time 164: No displacement with reference t=0 found... Attempt to change the reference...\n",
      "Time 164: New reference time set to t=163...\n",
      "Time 164: Displacement_x(t=163) = 3.541868714080938\n",
      "Total displacement_x = 3.5038133721054963\n",
      "Time 165: No displacement with reference t=0 found... Attempt to change the reference...\n"
     ]
    },
    {
     "name": "stderr",
     "output_type": "stream",
     "text": [
      " 84%|██████████████████████████████████▍      | 167/199 [00:51<00:05,  6.03it/s]"
     ]
    },
    {
     "name": "stdout",
     "output_type": "stream",
     "text": [
      "Time 165: New reference time set to t=164...\n",
      "Time 165: Displacement_x(t=164) = 3.5038133721054963\n",
      "Total displacement_x = 3.5732647180241854\n",
      "Time 166: No displacement with reference t=0 found... Attempt to change the reference...\n",
      "Time 166: New reference time set to t=165...\n",
      "Time 166: Displacement_x(t=165) = 3.5732647180241854\n",
      "Total displacement_x = 3.568472663863224\n",
      "Time 167: No displacement with reference t=0 found... Attempt to change the reference...\n"
     ]
    },
    {
     "name": "stderr",
     "output_type": "stream",
     "text": [
      " 85%|██████████████████████████████████▊      | 169/199 [00:51<00:04,  6.23it/s]"
     ]
    },
    {
     "name": "stdout",
     "output_type": "stream",
     "text": [
      "Time 167: New reference time set to t=166...\n",
      "Time 167: Displacement_x(t=166) = 3.568472663863224\n",
      "Total displacement_x = 3.5368798187582207\n",
      "Time 168: No displacement with reference t=0 found... Attempt to change the reference...\n",
      "Time 168: New reference time set to t=167...\n",
      "Time 168: Displacement_x(t=167) = 3.5368798187582207\n",
      "Total displacement_x = 3.647245976340577\n",
      "Time 169: No displacement with reference t=0 found... Attempt to change the reference...\n"
     ]
    },
    {
     "name": "stderr",
     "output_type": "stream",
     "text": [
      " 86%|███████████████████████████████████▏     | 171/199 [00:51<00:04,  6.38it/s]"
     ]
    },
    {
     "name": "stdout",
     "output_type": "stream",
     "text": [
      "Time 169: New reference time set to t=168...\n",
      "Time 169: Displacement_x(t=168) = 3.647245976340577\n",
      "Total displacement_x = 3.5584574235379915\n",
      "Time 170: No displacement with reference t=0 found... Attempt to change the reference...\n",
      "Time 170: New reference time set to t=169...\n",
      "Time 170: Displacement_x(t=169) = 3.5584574235379915\n",
      "Total displacement_x = 3.519644586216429\n",
      "Time 171: No displacement with reference t=0 found... Attempt to change the reference...\n"
     ]
    },
    {
     "name": "stderr",
     "output_type": "stream",
     "text": [
      " 87%|███████████████████████████████████▋     | 173/199 [00:52<00:03,  6.73it/s]"
     ]
    },
    {
     "name": "stdout",
     "output_type": "stream",
     "text": [
      "Time 171: New reference time set to t=170...\n",
      "Time 171: Displacement_x(t=170) = 3.519644586216429\n",
      "Total displacement_x = 3.6330013132431382\n",
      "Time 172: No displacement with reference t=0 found... Attempt to change the reference...\n",
      "Time 172: New reference time set to t=171...\n",
      "Time 172: Displacement_x(t=171) = 3.6330013132431382\n",
      "Total displacement_x = 3.5683202750890946\n",
      "Time 173: No displacement with reference t=0 found... Attempt to change the reference...\n"
     ]
    },
    {
     "name": "stderr",
     "output_type": "stream",
     "text": [
      " 88%|████████████████████████████████████     | 175/199 [00:52<00:03,  7.19it/s]"
     ]
    },
    {
     "name": "stdout",
     "output_type": "stream",
     "text": [
      "Time 173: New reference time set to t=172...\n",
      "Time 173: Displacement_x(t=172) = 3.5683202750890946\n",
      "Total displacement_x = 3.593115065780866\n",
      "Time 174: No displacement with reference t=0 found... Attempt to change the reference...\n",
      "Time 174: New reference time set to t=173...\n",
      "Time 174: Displacement_x(t=173) = 3.593115065780866\n",
      "Total displacement_x = 3.6077563058974524\n",
      "Time 175: No displacement with reference t=0 found... Attempt to change the reference...\n"
     ]
    },
    {
     "name": "stderr",
     "output_type": "stream",
     "text": [
      " 89%|████████████████████████████████████▍    | 177/199 [00:52<00:02,  7.63it/s]"
     ]
    },
    {
     "name": "stdout",
     "output_type": "stream",
     "text": [
      "Time 175: New reference time set to t=174...\n",
      "Time 175: Displacement_x(t=174) = 3.6077563058974524\n",
      "Total displacement_x = 3.5970577987321772\n",
      "Time 176: No displacement with reference t=0 found... Attempt to change the reference...\n",
      "Time 176: New reference time set to t=175...\n",
      "Time 176: Displacement_x(t=175) = 3.5970577987321772\n",
      "Total displacement_x = 3.620657800734719\n",
      "Time 177: No displacement with reference t=0 found... Attempt to change the reference...\n"
     ]
    },
    {
     "name": "stderr",
     "output_type": "stream",
     "text": [
      " 90%|████████████████████████████████████▉    | 179/199 [00:52<00:02,  7.94it/s]"
     ]
    },
    {
     "name": "stdout",
     "output_type": "stream",
     "text": [
      "Time 177: New reference time set to t=176...\n",
      "Time 177: Displacement_x(t=176) = 3.620657800734719\n",
      "Total displacement_x = 3.666544097422991\n",
      "Time 178: No displacement with reference t=0 found... Attempt to change the reference...\n",
      "Time 178: New reference time set to t=177...\n",
      "Time 178: Displacement_x(t=177) = 3.666544097422991\n",
      "Total displacement_x = 3.673321659732676\n",
      "Time 179: No displacement with reference t=0 found... Attempt to change the reference...\n"
     ]
    },
    {
     "name": "stderr",
     "output_type": "stream",
     "text": [
      " 91%|█████████████████████████████████████▎   | 181/199 [00:53<00:02,  8.40it/s]"
     ]
    },
    {
     "name": "stdout",
     "output_type": "stream",
     "text": [
      "Time 179: New reference time set to t=178...\n",
      "Time 179: Displacement_x(t=178) = 3.673321659732676\n",
      "Total displacement_x = 3.5866110864587903\n",
      "Time 180: No displacement with reference t=0 found... Attempt to change the reference...\n",
      "Time 180: New reference time set to t=179...\n",
      "Time 180: Displacement_x(t=179) = 3.5866110864587903\n",
      "Total displacement_x = 3.6192794034076914\n",
      "Time 181: No displacement with reference t=0 found... Attempt to change the reference...\n"
     ]
    },
    {
     "name": "stderr",
     "output_type": "stream",
     "text": [
      " 92%|█████████████████████████████████████▋   | 183/199 [00:53<00:01,  8.90it/s]"
     ]
    },
    {
     "name": "stdout",
     "output_type": "stream",
     "text": [
      "Time 181: New reference time set to t=180...\n",
      "Time 181: Displacement_x(t=180) = 3.6192794034076914\n",
      "Total displacement_x = 3.6237707254271463\n",
      "Time 182: No displacement with reference t=0 found... Attempt to change the reference...\n",
      "Time 182: New reference time set to t=181...\n",
      "Time 182: Displacement_x(t=181) = 3.6237707254271463\n",
      "Total displacement_x = 3.6824531974370083\n",
      "Time 183: No displacement with reference t=0 found... Attempt to change the reference...\n",
      "Time 183: New reference time set to t=182...\n",
      "Time 183: Displacement_x(t=182) = 3.6824531974370083\n",
      "Total displacement_x = 3.6552474672538557\n",
      "Time 184: No displacement with reference t=0 found... Attempt to change the reference...\n"
     ]
    },
    {
     "name": "stderr",
     "output_type": "stream",
     "text": [
      " 94%|██████████████████████████████████████▌  | 187/199 [00:53<00:01,  9.91it/s]"
     ]
    },
    {
     "name": "stdout",
     "output_type": "stream",
     "text": [
      "Time 184: New reference time set to t=183...\n",
      "Time 184: Displacement_x(t=183) = 3.6552474672538557\n",
      "Total displacement_x = 3.6693524929891086\n",
      "Time 185: No displacement with reference t=0 found... Attempt to change the reference...\n",
      "Time 185: New reference time set to t=184...\n",
      "Time 185: Displacement_x(t=184) = 3.6693524929891086\n",
      "Total displacement_x = 3.6757216670248396\n",
      "Time 186: No displacement with reference t=0 found... Attempt to change the reference...\n",
      "Time 186: New reference time set to t=185...\n",
      "Time 186: Displacement_x(t=185) = 3.6757216670248396\n",
      "Total displacement_x = 3.7066367284192543\n",
      "Time 187: No displacement with reference t=0 found... Attempt to change the reference...\n"
     ]
    },
    {
     "name": "stderr",
     "output_type": "stream",
     "text": [
      "\r",
      " 95%|██████████████████████████████████████▉  | 189/199 [00:53<00:00, 10.39it/s]"
     ]
    },
    {
     "name": "stdout",
     "output_type": "stream",
     "text": [
      "Time 187: New reference time set to t=186...\n",
      "Time 187: Displacement_x(t=186) = 3.7066367284192543\n",
      "Total displacement_x = 3.7023444122081335\n",
      "Time 188: No displacement with reference t=0 found... Attempt to change the reference...\n",
      "Time 188: New reference time set to t=187...\n",
      "Time 188: Displacement_x(t=187) = 3.7023444122081335\n",
      "Total displacement_x = 3.7441964771962923\n",
      "Time 189: No displacement with reference t=0 found... Attempt to change the reference...\n",
      "Time 189: New reference time set to t=188...\n",
      "Time 189: Displacement_x(t=188) = 3.7441964771962923\n",
      "Total displacement_x = 3.6822503835347744\n",
      "Time 190: No displacement with reference t=0 found... Attempt to change the reference...\n"
     ]
    },
    {
     "name": "stderr",
     "output_type": "stream",
     "text": [
      " 97%|███████████████████████████████████████▊ | 193/199 [00:54<00:00, 11.51it/s]"
     ]
    },
    {
     "name": "stdout",
     "output_type": "stream",
     "text": [
      "Time 190: New reference time set to t=189...\n",
      "Time 190: Displacement_x(t=189) = 3.6822503835347744\n",
      "Total displacement_x = 3.5655946090957022\n",
      "Time 191: No displacement with reference t=0 found... Attempt to change the reference...\n",
      "Time 191: New reference time set to t=190...\n",
      "Time 191: Displacement_x(t=190) = 3.5655946090957022\n",
      "Total displacement_x = 3.606092100000455\n",
      "Time 192: No displacement with reference t=0 found... Attempt to change the reference...\n",
      "Time 192: New reference time set to t=191...\n",
      "Time 192: Displacement_x(t=191) = 3.606092100000455\n",
      "Total displacement_x = 3.6382240762241955\n",
      "Time 193: No displacement with reference t=0 found... Attempt to change the reference...\n"
     ]
    },
    {
     "name": "stderr",
     "output_type": "stream",
     "text": [
      " 99%|████████████████████████████████████████▌| 197/199 [00:54<00:00, 13.39it/s]"
     ]
    },
    {
     "name": "stdout",
     "output_type": "stream",
     "text": [
      "Time 193: New reference time set to t=192...\n",
      "Time 193: Displacement_x(t=192) = 3.6382240762241955\n",
      "Total displacement_x = 3.584236191082281\n",
      "Time 194: No displacement with reference t=0 found... Attempt to change the reference...\n",
      "Time 194: New reference time set to t=193...\n",
      "Time 194: Displacement_x(t=193) = 3.584236191082281\n",
      "Total displacement_x = 3.6176745748780714\n",
      "Time 195: No displacement with reference t=0 found... Attempt to change the reference...\n",
      "Time 195: New reference time set to t=194...\n",
      "Time 195: Displacement_x(t=194) = 3.6176745748780714\n",
      "Total displacement_x = 3.5185659489265078\n",
      "Time 196: No displacement with reference t=0 found... Attempt to change the reference...\n",
      "Time 196: New reference time set to t=195...\n",
      "Time 196: Displacement_x(t=195) = 3.5185659489265078\n",
      "Total displacement_x = 3.5133296195020893\n",
      "Time 197: No displacement with reference t=0 found... Attempt to change the reference...\n"
     ]
    },
    {
     "name": "stderr",
     "output_type": "stream",
     "text": [
      "100%|█████████████████████████████████████████| 199/199 [00:54<00:00,  3.64it/s]\n"
     ]
    },
    {
     "name": "stdout",
     "output_type": "stream",
     "text": [
      "Time 197: New reference time set to t=196...\n",
      "Time 197: Displacement_x(t=196) = 3.5133296195020893\n",
      "Total displacement_x = 3.5751670049795665\n",
      "Time 198: No displacement with reference t=0 found... Attempt to change the reference...\n",
      "Time 198: New reference time set to t=197...\n",
      "Time 198: Displacement_x(t=197) = 3.5751670049795665\n",
      "Total displacement_x = 3.614996527829316\n"
     ]
    },
    {
     "data": {
      "image/png": "[encoded data removed]",
      "text/plain": [
       "<Figure size 400x300 with 1 Axes>"
      ]
     },
     "metadata": {},
     "output_type": "display_data"
    }
   ],
   "source": [
    "from spt_align import fill_by_shifting_reference_time\n",
    "\n",
    "displacement = fill_by_shifting_reference_time(df, timeline, displacement_0, nbr_tracks_threshold=50, from_origin=False, extrapolation_kind='linear')\n",
    "plot_displacement(timeline, displacement)"
   ]
  },
  {
   "cell_type": "markdown",
   "id": "ff5b1891",
   "metadata": {},
   "source": [
    "You can see how at frame 30 we switch from reference time 0 to $T-1$ for the most part. In some places, the displacement cannot be estimated at all (blurry and black frames). To be able to continue at later timepoints without breaking the chain-rule, we extrapolate these missing displacements. \n",
    "\n",
    "We can also look for reference times starting at 0. The advantage is that if a reference time of, say, $t_{\\textrm{ref}} = 33$ works for all subsequent $T$, we don't have to recompute the displacement profile for all times $t > t_{\\textrm{ref}} = 33$. We also avoid most false positive tracks and only focus on the longest ones. The minimum track intersection is still controlled by the parameter `nbr_tracks_threshold`."
   ]
  },
  {
   "cell_type": "code",
   "execution_count": 4,
   "id": "eb78dc32",
   "metadata": {},
   "outputs": [
    {
     "name": "stderr",
     "output_type": "stream",
     "text": [
      "\r",
      "  0%|                                                   | 0/199 [00:00<?, ?it/s]"
     ]
    },
    {
     "name": "stdout",
     "output_type": "stream",
     "text": [
      "Time 30: No displacement with reference t=0 found... Attempt to change the reference...\n"
     ]
    },
    {
     "name": "stderr",
     "output_type": "stream",
     "text": [
      "\r",
      " 16%|██████▌                                   | 31/199 [00:03<00:18,  9.16it/s]"
     ]
    },
    {
     "name": "stdout",
     "output_type": "stream",
     "text": [
      "Time 30: Failed to find a valid reference time...\n",
      "Time 31: No displacement with reference t=0 found... Attempt to change the reference...\n",
      "Time 31: Failed to find a valid reference time...\n",
      "Time 32: No displacement with reference t=0 found... Attempt to change the reference...\n"
     ]
    },
    {
     "name": "stderr",
     "output_type": "stream",
     "text": [
      "100%|█████████████████████████████████████████| 199/199 [00:03<00:00, 55.27it/s]"
     ]
    },
    {
     "name": "stdout",
     "output_type": "stream",
     "text": [
      "Time 32: Failed to find a valid reference time...\n"
     ]
    },
    {
     "name": "stderr",
     "output_type": "stream",
     "text": [
      "\n"
     ]
    },
    {
     "data": {
      "image/png": "[encoded data removed]",
      "text/plain": [
       "<Figure size 400x300 with 1 Axes>"
      ]
     },
     "metadata": {},
     "output_type": "display_data"
    }
   ],
   "source": [
    "from spt_align import fill_by_shifting_reference_time\n",
    "\n",
    "displacement = fill_by_shifting_reference_time(df, timeline, displacement_0, nbr_tracks_threshold=100, from_origin=True, extrapolation_kind='linear')\n",
    "plot_displacement(timeline, displacement)"
   ]
  },
  {
   "cell_type": "markdown",
   "id": "34ed7a00",
   "metadata": {},
   "source": [
    "We obtain a similar result in 3 seconds instead of 54 seconds!"
   ]
  },
  {
   "cell_type": "markdown",
   "id": "78626df8",
   "metadata": {},
   "source": [
    "# 5) Apply the correction displacement and save\n",
    "\n",
    "Once we have such a profile of the measured displacement on the images, we can apply an inverse shift to correct for it. As you can see, most displacements here are much lower than the pixel size (`PxToUm` = 1), which makes applying the shift very tricky. \n",
    "\n",
    "We propose to do it in Fourier space, where the manipulation of wavelength makes a tiny shift less prone to artefacts and rounding errors. \n",
    "\n",
    "In the following we call the function `align_frames` where you can pass an output folder to save the aligned stack in the disk."
   ]
  },
  {
   "cell_type": "code",
   "execution_count": 5,
   "id": "0f6b9c29",
   "metadata": {},
   "outputs": [],
   "source": [
    "from spt_align import align_frames\n",
    "\n",
    "stack = align_frames(frames, displacement, PxToUm=PxToUm, output_dir=\"output\")"
   ]
  },
  {
   "cell_type": "markdown",
   "id": "cab1cb1b",
   "metadata": {},
   "source": [
    "We can reload the original stack to compare the results:"
   ]
  },
  {
   "cell_type": "code",
   "execution_count": 6,
   "id": "aac622bc",
   "metadata": {},
   "outputs": [],
   "source": [
    "stack_raw = locate_frames(os.sep.join(['..','data','images']),load=True)"
   ]
  },
  {
   "cell_type": "code",
   "execution_count": 7,
   "id": "ee608438",
   "metadata": {},
   "outputs": [
    {
     "data": {
      "image/png": "[encoded data removed]",
      "text/plain": [
       "<Figure size 700x300 with 2 Axes>"
      ]
     },
     "metadata": {},
     "output_type": "display_data"
    }
   ],
   "source": [
    "import matplotlib.pyplot as plt\n",
    "import numpy as np\n",
    "\n",
    "fig,ax = plt.subplots(1,2,figsize=(7,3))\n",
    "ax[0].imshow(np.mean(stack_raw,axis=0),cmap='gray',vmax=1300)\n",
    "ax[1].imshow(np.mean(stack,axis=0),cmap='gray',vmax=1300)\n",
    "ax[0].set_title('original stack')\n",
    "ax[1].set_title('SPT-aligned stack')\n",
    "for a in ax:\n",
    "    a.set_xticks([])\n",
    "    a.set_yticks([])\n",
    "fig.suptitle('Mean projection')\n",
    "plt.tight_layout()\n",
    "plt.show()"
   ]
  },
  {
   "cell_type": "markdown",
   "id": "d0e0656d",
   "metadata": {},
   "source": [
    "# 6) Quality check: displacement profile of the corrected stack\n",
    "\n",
    "We can now use the aligned stack with TrackMate to retrack the spots and check that we have indeed corrected the shift."
   ]
  },
  {
   "cell_type": "code",
   "execution_count": 8,
   "id": "2bfc41a1",
   "metadata": {},
   "outputs": [
    {
     "data": {
      "image/png": "[encoded data removed]",
      "text/plain": [
       "<Figure size 400x300 with 1 Axes>"
      ]
     },
     "metadata": {},
     "output_type": "display_data"
    },
    {
     "data": {
      "image/png": "[encoded data removed]",
      "text/plain": [
       "<Figure size 400x300 with 1 Axes>"
      ]
     },
     "metadata": {},
     "output_type": "display_data"
    }
   ],
   "source": [
    "df_post = load_tracks(os.sep.join(['..','data','post-correction-tracking-corrupt.csv']))\n",
    "frames = locate_frames(os.sep.join(['..','data','images']))\n",
    "timeline = estimate_timeline(frames, df)\n",
    "PxToUm = 1\n",
    "\n",
    "displacement = estimate_displacement(df_post, timeline, reference_time=0, nbr_tracks_threshold=30)\n",
    "\n",
    "fig,ax = plt.subplots(1,1,figsize=(4,3))\n",
    "ax.set_ylim(-3,3)\n",
    "ax.hlines(np.mean(displacement[33:,0]),0,max(timeline),linestyle='--',alpha=0.5,zorder=0,color=\"tab:blue\")\n",
    "ax.hlines(np.mean(displacement[33:,1]),0,max(timeline),linestyle='--',alpha=0.5,zorder=0,color=\"tab:orange\")\n",
    "plot_displacement(timeline, displacement, ax=ax)\n",
    "\n",
    "fig,ax = plt.subplots(1,1,figsize=(4,3))\n",
    "ax.set_ylim(-0.6,0.5)\n",
    "ax.hlines(np.mean(displacement[33:,0]),0,max(timeline),linestyle='--',alpha=0.5,zorder=0,color=\"tab:blue\")\n",
    "ax.hlines(np.mean(displacement[33:,1]),0,max(timeline),linestyle='--',alpha=0.5,zorder=0,color=\"tab:orange\")\n",
    "plot_displacement(timeline, displacement, ax=ax)"
   ]
  },
  {
   "cell_type": "markdown",
   "id": "fd301966",
   "metadata": {},
   "source": [
    "As you can see, with the corrupt data, we achieve a good alignment in part: before and after the frame for which we had no alignment information due to the truncated tracks. The extrapolation method is at fault here as a poor extrapolation will create such a shift. \n",
    "\n",
    "To compare, we can use the good trajectory set and redo all the steps:"
   ]
  },
  {
   "cell_type": "code",
   "execution_count": 9,
   "id": "dafac291",
   "metadata": {},
   "outputs": [
    {
     "name": "stderr",
     "output_type": "stream",
     "text": [
      "\r",
      "  0%|                                                   | 0/199 [00:00<?, ?it/s]"
     ]
    },
    {
     "name": "stdout",
     "output_type": "stream",
     "text": [
      "Time 31: No displacement with reference t=0 found... Attempt to change the reference...\n"
     ]
    },
    {
     "name": "stderr",
     "output_type": "stream",
     "text": [
      "100%|█████████████████████████████████████████| 199/199 [00:18<00:00, 10.75it/s]"
     ]
    },
    {
     "name": "stdout",
     "output_type": "stream",
     "text": [
      "Time 31: Failed to find a valid reference time...\n"
     ]
    },
    {
     "name": "stderr",
     "output_type": "stream",
     "text": [
      "\n"
     ]
    }
   ],
   "source": [
    "df = load_tracks(os.sep.join(['..','data','tracks.csv']))\n",
    "frames = locate_frames(os.sep.join(['..','data','images']))\n",
    "timeline = estimate_timeline(frames, df)\n",
    "PxToUm = 1\n",
    "\n",
    "displacement = estimate_displacement(df, timeline, reference_time=0, nbr_tracks_threshold=30)\n",
    "displacement = fill_by_shifting_reference_time(df, timeline, displacement, nbr_tracks_threshold=30, from_origin=True)\n",
    "align_frames(frames, displacement, PxToUm=PxToUm, output_dir=\"output_clean\",return_stack=False)"
   ]
  },
  {
   "cell_type": "code",
   "execution_count": 10,
   "id": "4c5ac47c",
   "metadata": {},
   "outputs": [
    {
     "data": {
      "image/png": "[encoded data removed]",
      "text/plain": [
       "<Figure size 400x300 with 1 Axes>"
      ]
     },
     "metadata": {},
     "output_type": "display_data"
    },
    {
     "data": {
      "image/png": "[encoded data removed]",
      "text/plain": [
       "<Figure size 400x300 with 1 Axes>"
      ]
     },
     "metadata": {},
     "output_type": "display_data"
    }
   ],
   "source": [
    "df_post = load_tracks(os.sep.join(['..','data','post-correction-tracking-clean.csv']))\n",
    "frames = locate_frames(os.sep.join(['..','data','images']))\n",
    "timeline = estimate_timeline(frames, df)\n",
    "PxToUm = 1\n",
    "\n",
    "displacement = estimate_displacement(df_post, timeline, reference_time=0, nbr_tracks_threshold=30)\n",
    "\n",
    "fig,ax = plt.subplots(1,1,figsize=(4,3))\n",
    "ax.set_ylim(-3,3)\n",
    "plot_displacement(timeline, displacement, ax=ax)\n",
    "\n",
    "fig,ax = plt.subplots(1,1,figsize=(4,3))\n",
    "ax.set_ylim(-0.5,0.5)\n",
    "plot_displacement(timeline, displacement, ax=ax)"
   ]
  },
  {
   "cell_type": "markdown",
   "id": "58a78fae",
   "metadata": {},
   "source": [
    "As before we achive a correction that limits the shift to less than 20 \\% of a pixel per frame."
   ]
  },
  {
   "cell_type": "code",
   "execution_count": null,
   "id": "65087763",
   "metadata": {},
   "outputs": [],
   "source": []
  }
 ],
 "metadata": {
  "kernelspec": {
   "display_name": "Python 3 (ipykernel)",
   "language": "python",
   "name": "python3"
  },
  "language_info": {
   "codemirror_mode": {
    "name": "ipython",
    "version": 3
   },
   "file_extension": ".py",
   "mimetype": "text/x-python",
   "name": "python",
   "nbconvert_exporter": "python",
   "pygments_lexer": "ipython3",
   "version": "3.10.12"
  },
  "toc": {
   "base_numbering": 1,
   "nav_menu": {},
   "number_sections": true,
   "sideBar": true,
   "skip_h1_title": false,
   "title_cell": "Table of Contents",
   "title_sidebar": "Contents",
   "toc_cell": false,
   "toc_position": {},
   "toc_section_display": true,
   "toc_window_display": false
  }
 },
 "nbformat": 4,
 "nbformat_minor": 5
}
